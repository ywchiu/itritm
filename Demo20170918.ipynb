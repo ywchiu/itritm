{
 "cells": [
  {
   "cell_type": "markdown",
   "metadata": {},
   "source": [
    "## 使用正規表達法斷詞"
   ]
  },
  {
   "cell_type": "code",
   "execution_count": 6,
   "metadata": {
    "collapsed": false
   },
   "outputs": [
    {
     "data": {
      "text/plain": [
       "['氣候變遷讓登革熱成為各國公共衛生的燙手山芋',\n",
       " '前年在國內造成4萬多例感染',\n",
       " '228人死亡的嚴重疫情',\n",
       " '尤其是台南市成疫情重災區',\n",
       " '時任台南市長的行政院長賴清德今早出席',\n",
       " '登革熱國際防治論壇',\n",
       " '',\n",
       " '表達對防疫的重視',\n",
       " '他強調',\n",
       " '登革熱防疫須有對策',\n",
       " '否則疫情不會僅限於南台灣',\n",
       " '國內死亡病例有高齡',\n",
       " '患慢性病等特性',\n",
       " '與東南亞國家不同',\n",
       " '台南經驗可供疫苗研發參考',\n",
       " '']"
      ]
     },
     "execution_count": 6,
     "metadata": {},
     "output_type": "execute_result"
    }
   ],
   "source": [
    "import re\n",
    "article = '''氣候變遷讓登革熱成為各國公共衛生的燙手山芋，前年在國內造成4萬多例感染，228人死亡的嚴重疫情，尤其是台南市成疫情重災區，時任台南市長的行政院長賴清德今早出席「登革熱國際防治論壇」，表達對防疫的重視。他強調，登革熱防疫須有對策，否則疫情不會僅限於南台灣，國內死亡病例有高齡、患慢性病等特性，與東南亞國家不同，台南經驗可供疫苗研發參考。'''\n",
    "re.split('，|。|「|」|、', article)"
   ]
  },
  {
   "cell_type": "markdown",
   "metadata": {},
   "source": [
    "## 安裝 Jieba"
   ]
  },
  {
   "cell_type": "code",
   "execution_count": 7,
   "metadata": {
    "collapsed": false
   },
   "outputs": [
    {
     "name": "stdout",
     "output_type": "stream",
     "text": [
      "Requirement already satisfied: jieba in c:\\programdata\\anaconda3\\lib\\site-packages\n"
     ]
    }
   ],
   "source": [
    "! pip install jieba"
   ]
  },
  {
   "cell_type": "markdown",
   "metadata": {},
   "source": [
    "## 使用Jieba 切詞"
   ]
  },
  {
   "cell_type": "code",
   "execution_count": 2,
   "metadata": {
    "collapsed": false
   },
   "outputs": [
    {
     "name": "stderr",
     "output_type": "stream",
     "text": [
      "Building prefix dict from the default dictionary ...\n",
      "Loading model from cache C:\\Users\\User\\AppData\\Local\\Temp\\jieba.cache\n",
      "Loading model cost 1.153 seconds.\n",
      "Prefix dict has been built succesfully.\n"
     ]
    },
    {
     "name": "stdout",
     "output_type": "stream",
     "text": [
      "大\n",
      "巨蛋\n",
      "案對\n",
      "市府\n",
      "同仁\n",
      "下\n",
      "封口令\n",
      "？\n",
      "　\n",
      "柯\n",
      "P\n",
      "否認\n"
     ]
    }
   ],
   "source": [
    "import jieba\n",
    "for w in jieba.cut(\"大巨蛋案對市府同仁下封口令？　柯P否認\"):\n",
    "    print(w)"
   ]
  },
  {
   "cell_type": "code",
   "execution_count": 3,
   "metadata": {
    "collapsed": false
   },
   "outputs": [
    {
     "name": "stdout",
     "output_type": "stream",
     "text": [
      "大\n",
      "巨蛋\n",
      "案\n",
      "對\n",
      "市府\n",
      "同仁\n",
      "下\n",
      "封口\n",
      "封口令\n",
      "口令\n",
      "\n",
      "\n",
      "\n",
      "柯\n",
      "P\n",
      "否\n",
      "認\n"
     ]
    }
   ],
   "source": [
    "import jieba\n",
    "for w in jieba.cut(\"大巨蛋案對市府同仁下封口令？　柯P否認\", cut_all=True):\n",
    "    print(w)"
   ]
  },
  {
   "cell_type": "code",
   "execution_count": 1,
   "metadata": {
    "collapsed": false
   },
   "outputs": [
    {
     "name": "stderr",
     "output_type": "stream",
     "text": [
      "Building prefix dict from the default dictionary ...\n",
      "Loading model from cache C:\\Users\\User\\AppData\\Local\\Temp\\jieba.cache\n",
      "Loading model cost 1.114 seconds.\n",
      "Prefix dict has been built succesfully.\n"
     ]
    },
    {
     "data": {
      "text/plain": [
       "['大', '巨蛋', '案對', '市府', '同仁', '下', '封口令', '？', '\\u3000', '柯', 'P', '否認']"
      ]
     },
     "execution_count": 1,
     "metadata": {},
     "output_type": "execute_result"
    }
   ],
   "source": [
    "import jieba\n",
    "ary = []\n",
    "for w in jieba.cut(\"大巨蛋案對市府同仁下封口令？　柯P否認\"):\n",
    "    ary.append(w)\n",
    "ary"
   ]
  },
  {
   "cell_type": "code",
   "execution_count": 6,
   "metadata": {
    "collapsed": false
   },
   "outputs": [
    {
     "data": {
      "text/plain": [
       "['大', '巨蛋', '案對', '市府', '同仁', '下', '封口令', '？', '\\u3000', '柯', 'P', '否認']"
      ]
     },
     "execution_count": 6,
     "metadata": {},
     "output_type": "execute_result"
    }
   ],
   "source": [
    "[w for w in jieba.cut(\"大巨蛋案對市府同仁下封口令？　柯P否認\")]"
   ]
  },
  {
   "cell_type": "code",
   "execution_count": 7,
   "metadata": {
    "collapsed": false
   },
   "outputs": [
    {
     "data": {
      "text/plain": [
       "['大巨蛋', '案對', '市府', '同仁', '下', '封口令', '？', '\\u3000', '柯P', '否認']"
      ]
     },
     "execution_count": 7,
     "metadata": {},
     "output_type": "execute_result"
    }
   ],
   "source": [
    "## add_word 只有暫時生效\n",
    "jieba.add_word('大巨蛋')\n",
    "jieba.add_word('柯P')\n",
    "[w for w in jieba.cut(\"大巨蛋案對市府同仁下封口令？　柯P否認\")]"
   ]
  },
  {
   "cell_type": "code",
   "execution_count": 9,
   "metadata": {
    "collapsed": false
   },
   "outputs": [
    {
     "name": "stderr",
     "output_type": "stream",
     "text": [
      "Building prefix dict from C:\\Users\\User\\itritm\\dict.txt ...\n",
      "Loading model from cache C:\\Users\\User\\AppData\\Local\\Temp\\jieba.uf0178d4b7c79c465ac9d115367f9739d.cache\n",
      "Loading model cost 0.005 seconds.\n",
      "Prefix dict has been built succesfully.\n"
     ]
    },
    {
     "name": "stdout",
     "output_type": "stream",
     "text": [
      "大巨蛋/案對/市府/同仁下/封口令/？/　/柯P/否認\n"
     ]
    }
   ],
   "source": [
    "import jieba\n",
    "jieba.set_dictionary('dict.txt')\n",
    "[w for w in jieba.cut(\"大巨蛋案對市府同仁下封口令？　柯P否認\")]\n",
    "'/'.join([w for w in jieba.cut(\"大巨蛋案對市府同仁下封口令？　柯P否認\")])\n",
    "print('/'.join([w for w in jieba.cut(\"大巨蛋案對市府同仁下封口令？　柯P否認\")]))"
   ]
  },
  {
   "cell_type": "code",
   "execution_count": 15,
   "metadata": {
    "collapsed": false
   },
   "outputs": [
    {
     "data": {
      "text/plain": [
       "['大巨蛋', '案對', '市府', '同仁下', '封口令', '？', ' ', '柯P', '否認']"
      ]
     },
     "execution_count": 15,
     "metadata": {},
     "output_type": "execute_result"
    }
   ],
   "source": [
    "# method 1:\n",
    "sentence = \"大巨蛋案對市府同仁下封口令？　柯P否認\"\n",
    "' '.join(sentence.split())\n",
    "[w for w in jieba.cut(' '.join(sentence.split()))]\n"
   ]
  },
  {
   "cell_type": "code",
   "execution_count": 16,
   "metadata": {
    "collapsed": false
   },
   "outputs": [
    {
     "data": {
      "text/plain": [
       "['大巨蛋', '案對', '市府', '同仁下', '封口令', '？', '', '柯P', '否認']"
      ]
     },
     "execution_count": 16,
     "metadata": {},
     "output_type": "execute_result"
    }
   ],
   "source": [
    "# method2\n",
    "sentence = \"大巨蛋案對市府同仁下封口令？　柯P否認\"\n",
    "[w.strip() for w in jieba.cut(' '.join(sentence.split()))]"
   ]
  },
  {
   "cell_type": "code",
   "execution_count": 5,
   "metadata": {
    "collapsed": false
   },
   "outputs": [
    {
     "name": "stdout",
     "output_type": "stream",
     "text": [
      "大巨蛋 nr\n",
      "案 ng\n",
      "對 p\n",
      "市府 n\n",
      "同仁 n\n",
      "下封 v\n",
      "口令 n\n",
      "？ x\n",
      "　 x\n",
      "柯P x\n",
      "否認 v\n"
     ]
    }
   ],
   "source": [
    "import jieba\n",
    "import jieba.posseg as pseg\n",
    "\n",
    "jieba.add_word('大巨蛋', 100, 'nr' )\n",
    "words = pseg.cut(\"大巨蛋案對市府同仁下封口令？　柯P否認\")\n",
    "\n",
    "for w in words:\n",
    "    print(w.word, w.flag)"
   ]
  },
  {
   "cell_type": "code",
   "execution_count": 7,
   "metadata": {
    "collapsed": false
   },
   "outputs": [
    {
     "name": "stdout",
     "output_type": "stream",
     "text": [
      "大巨蛋 0 3\n",
      "案對 3 5\n",
      "市府 5 7\n",
      "同仁下 7 10\n",
      "封口令 10 13\n",
      "？ 13 14\n",
      "　 14 15\n",
      "柯P 15 17\n",
      "否認 17 19\n"
     ]
    }
   ],
   "source": [
    "words = jieba.tokenize(\"大巨蛋案對市府同仁下封口令？　柯P否認\")\n",
    "\n",
    "for tw in words:\n",
    "    print(tw[0], tw[1], tw[2])\n"
   ]
  },
  {
   "cell_type": "code",
   "execution_count": 8,
   "metadata": {
    "collapsed": false
   },
   "outputs": [
    {
     "name": "stdout",
     "output_type": "stream",
     "text": [
      "封口令\n"
     ]
    }
   ],
   "source": [
    "import jieba.analyse\n",
    "tags = jieba.analyse.extract_tags(\"大巨蛋案對市府同仁下封口令？　柯P否認\", 1)\n",
    "print(\",\".join(tags))\n"
   ]
  },
  {
   "cell_type": "markdown",
   "metadata": {},
   "source": [
    "## 拿掉中間空白"
   ]
  },
  {
   "cell_type": "code",
   "execution_count": 11,
   "metadata": {
    "collapsed": false
   },
   "outputs": [
    {
     "data": {
      "text/plain": [
       "'i love this book'"
      ]
     },
     "execution_count": 11,
     "metadata": {},
     "output_type": "execute_result"
    }
   ],
   "source": [
    "sentence = '        i                      love                this        book'\n",
    "sentence.split()\n",
    "' '.join(sentence.split())"
   ]
  },
  {
   "cell_type": "markdown",
   "metadata": {},
   "source": [
    "## 獲取新詞"
   ]
  },
  {
   "cell_type": "code",
   "execution_count": 10,
   "metadata": {
    "collapsed": false
   },
   "outputs": [
    {
     "name": "stdout",
     "output_type": "stream",
     "text": [
      "北韓\n",
      "川普\n",
      "美國\n",
      "金正恩\n"
     ]
    }
   ],
   "source": [
    "import requests\n",
    "from bs4 import BeautifulSoup\n",
    "res =  requests.get('http://news.ltn.com.tw/news/world/breakingnews/2196565')\n",
    "soup = BeautifulSoup(res.text, 'html.parser')\n",
    "for keyword in soup.select('.keyword a'):\n",
    "    print(keyword.text)"
   ]
  },
  {
   "cell_type": "markdown",
   "metadata": {},
   "source": [
    "## n-gram"
   ]
  },
  {
   "cell_type": "code",
   "execution_count": 12,
   "metadata": {
    "collapsed": false
   },
   "outputs": [
    {
     "name": "stdout",
     "output_type": "stream",
     "text": [
      "那我\n",
      "我們\n",
      "們酸\n",
      "酸民\n",
      "民婉\n",
      "婉君\n",
      "君也\n",
      "也可\n",
      "可以\n",
      "以報\n",
      "報名\n",
      "名嗎\n"
     ]
    }
   ],
   "source": [
    "# 2-gram : bi-gram\n",
    "sentence = '那我們酸民婉君也可以報名嗎'\n",
    "for i in range(0, len(sentence) - 2 + 1):\n",
    "    #print(i, i + 2)\n",
    "    print(sentence[i:i+2])"
   ]
  },
  {
   "cell_type": "code",
   "execution_count": 13,
   "metadata": {
    "collapsed": false
   },
   "outputs": [
    {
     "name": "stdout",
     "output_type": "stream",
     "text": [
      "那我們\n",
      "我們酸\n",
      "們酸民\n",
      "酸民婉\n",
      "民婉君\n",
      "婉君也\n",
      "君也可\n",
      "也可以\n",
      "可以報\n",
      "以報名\n",
      "報名嗎\n"
     ]
    }
   ],
   "source": [
    "# 3-gram : tri-gram\n",
    "sentence = '那我們酸民婉君也可以報名嗎'\n",
    "for i in range(0, len(sentence) - 3 + 1):\n",
    "    #print(i, i + 3)\n",
    "    print(sentence[i:i+3])"
   ]
  },
  {
   "cell_type": "code",
   "execution_count": 14,
   "metadata": {
    "collapsed": false
   },
   "outputs": [
    {
     "data": {
      "text/plain": [
       "['那我', '我們', '們酸', '酸民', '民婉', '婉君', '君也', '也可', '可以', '以報', '報名', '名嗎']"
      ]
     },
     "execution_count": 14,
     "metadata": {},
     "output_type": "execute_result"
    }
   ],
   "source": [
    "def ngram(sentence, n = 2):\n",
    "    ary = []\n",
    "    for i in range(0, len(sentence) - n + 1):\n",
    "        ary.append(sentence[i:i+n])\n",
    "    return ary\n",
    "\n",
    "\n",
    "ngram('那我們酸民婉君也可以報名嗎')"
   ]
  },
  {
   "cell_type": "markdown",
   "metadata": {},
   "source": [
    "## 使用Counter 統計"
   ]
  },
  {
   "cell_type": "code",
   "execution_count": 15,
   "metadata": {
    "collapsed": false
   },
   "outputs": [
    {
     "data": {
      "text/plain": [
       "Counter({1: 3, 2: 4, 3: 2})"
      ]
     },
     "execution_count": 15,
     "metadata": {},
     "output_type": "execute_result"
    }
   ],
   "source": [
    "a= [1,2,3,1,2,2,3,1,2]\n",
    "from collections import Counter\n",
    "c = Counter(a)\n",
    "c"
   ]
  },
  {
   "cell_type": "code",
   "execution_count": 16,
   "metadata": {
    "collapsed": true
   },
   "outputs": [],
   "source": [
    "def ngram(sentence, n = 2):\n",
    "    ary = []\n",
    "    for i in range(0, len(sentence) - n + 1):\n",
    "        ary.append(sentence[i:i+n])\n",
    "    return Counter(ary)"
   ]
  },
  {
   "cell_type": "code",
   "execution_count": 18,
   "metadata": {
    "collapsed": false
   },
   "outputs": [
    {
     "data": {
      "text/plain": [
       "Counter({'也可以': 1,\n",
       "         '以報名': 1,\n",
       "         '們酸民': 1,\n",
       "         '可以報': 1,\n",
       "         '君也可': 1,\n",
       "         '報名嗎': 1,\n",
       "         '婉君也': 1,\n",
       "         '我們酸': 1,\n",
       "         '民婉君': 1,\n",
       "         '那我們': 1,\n",
       "         '酸民婉': 1})"
      ]
     },
     "execution_count": 18,
     "metadata": {},
     "output_type": "execute_result"
    }
   ],
   "source": [
    "ngram('那我們酸民婉君也可以報名嗎', 3)"
   ]
  },
  {
   "cell_type": "code",
   "execution_count": 19,
   "metadata": {
    "collapsed": true
   },
   "outputs": [],
   "source": [
    "article = '''氣候變遷讓登革熱成為各國公共衛生的燙手山芋，前年在國內造成4萬多例感染，228人死亡的嚴重疫情，尤其是台南市成疫情重災區，時任台南市長的行政院長賴清德今早出席「登革熱國際防治論壇」，表達對防疫的重視。他強調，登革熱防疫須有對策，否則疫情不會僅限於南台灣，國內死亡病例有高齡、患慢性病等特性，與東南亞國家不同，台南經驗可供疫苗研發參考。\n",
    "賴清德表示，蚊子散佈疾病造成人類喪生的威脅比世界大戰還大，前年擔任台南市長面臨有史以來最嚴重的登革熱疫情，共有2萬多例病例，半數是9歲以下、55歲以上，且流行病學調查顯示，當時台南的登革熱死亡有108例，平均年齡約70歲，其中90％至少患1種慢性病。\n",
    "去年6月衛福部疾管署與美國國家衛生研究院簽署合作備忘錄，將共同研發全球首款針對高齡族群的登革熱疫苗，將在台進行臨床試驗。賴說，目前政府的防疫作為主要是化學防治、孳生源清除，若登革熱疫苗能成功上市，防疫會更有效率。（蔡明樺／台北報導）'''"
   ]
  },
  {
   "cell_type": "code",
   "execution_count": 22,
   "metadata": {
    "collapsed": false
   },
   "outputs": [
    {
     "data": {
      "text/plain": [
       "[('登革', 7),\n",
       " ('革熱', 7),\n",
       " ('台南', 5),\n",
       " ('疫情', 4),\n",
       " ('防疫', 4),\n",
       " ('死亡', 3),\n",
       " ('南市', 3),\n",
       " ('疫苗', 3),\n",
       " ('的登', 3),\n",
       " ('熱疫', 3)]"
      ]
     },
     "execution_count": 22,
     "metadata": {},
     "output_type": "execute_result"
    }
   ],
   "source": [
    "res = ngram(article, 2)\n",
    "res.most_common(10)"
   ]
  },
  {
   "cell_type": "code",
   "execution_count": 23,
   "metadata": {
    "collapsed": false
   },
   "outputs": [
    {
     "data": {
      "text/plain": [
       "[('登革熱', 7),\n",
       " ('台南市', 3),\n",
       " ('的登革', 3),\n",
       " ('革熱疫', 3),\n",
       " ('，前年', 2),\n",
       " ('萬多例', 2),\n",
       " ('疫情，', 2),\n",
       " ('任台南', 2),\n",
       " ('南市長', 2),\n",
       " ('賴清德', 2)]"
      ]
     },
     "execution_count": 23,
     "metadata": {},
     "output_type": "execute_result"
    }
   ],
   "source": [
    "res = ngram(article, 3)\n",
    "res.most_common(10)"
   ]
  },
  {
   "cell_type": "code",
   "execution_count": 33,
   "metadata": {
    "collapsed": false
   },
   "outputs": [
    {
     "data": {
      "text/plain": [
       "['氣候變遷讓登革熱成為各國公共衛生的燙手山芋',\n",
       " '前年在國內造成4萬多例感染',\n",
       " '228人死亡的嚴重疫情',\n",
       " '尤其是台南市成疫情重災區',\n",
       " '時任台南市長的行政院長賴清德今早出席',\n",
       " '登革熱國際防治論壇',\n",
       " '',\n",
       " '表達對防疫的重視',\n",
       " '他強調',\n",
       " '登革熱防疫須有對策',\n",
       " '否則疫情不會僅限於南台灣',\n",
       " '國內死亡病例有高齡',\n",
       " '患慢性病等特性',\n",
       " '與東南亞國家不同',\n",
       " '台南經驗可供疫苗研發參考',\n",
       " '',\n",
       " '賴清德表示',\n",
       " '蚊子散佈疾病造成人類喪生的威脅比世界大戰還大',\n",
       " '前年擔任台南市長面臨有史以來最嚴重的登革熱疫情',\n",
       " '共有2萬多例病例',\n",
       " '半數是9歲以下',\n",
       " '55歲以上',\n",
       " '且流行病學調查顯示',\n",
       " '當時台南的登革熱死亡有108例',\n",
       " '平均年齡約70歲',\n",
       " '其中90％至少患1種慢性病',\n",
       " '',\n",
       " '去年6月衛福部疾管署與美國國家衛生研究院簽署合作備忘錄',\n",
       " '將共同研發全球首款針對高齡族群的登革熱疫苗',\n",
       " '將在台進行臨床試驗',\n",
       " '賴說',\n",
       " '目前政府的防疫作為主要是化學防治',\n",
       " '孳生源清除',\n",
       " '若登革熱疫苗能成功上市',\n",
       " '防疫會更有效率',\n",
       " '',\n",
       " '蔡明樺',\n",
       " '台北報導',\n",
       " '']"
      ]
     },
     "execution_count": 33,
     "metadata": {},
     "output_type": "execute_result"
    }
   ],
   "source": [
    "import re\n",
    "re.split('，|。|「|」|、|\\n|／|\"|（|）', article)"
   ]
  },
  {
   "cell_type": "code",
   "execution_count": 37,
   "metadata": {
    "collapsed": false
   },
   "outputs": [
    {
     "data": {
      "text/plain": [
       "'若能成功上市'"
      ]
     },
     "execution_count": 37,
     "metadata": {},
     "output_type": "execute_result"
    }
   ],
   "source": [
    "a = '若登革熱疫苗能成功上市'\n",
    "''.join(a.split('登革熱'))\n",
    "\n",
    "\n",
    "for w in ['登革熱', '疫苗']:\n",
    "    a = ''.join(a.split(w))\n",
    "a"
   ]
  },
  {
   "cell_type": "code",
   "execution_count": 38,
   "metadata": {
    "collapsed": true
   },
   "outputs": [],
   "source": [
    "def removeKey(sentence, keywords):\n",
    "    for keyword in keywords:\n",
    "        sentence = ''.join(a.split(keyword))\n",
    "    return sentence"
   ]
  },
  {
   "cell_type": "code",
   "execution_count": 39,
   "metadata": {
    "collapsed": false
   },
   "outputs": [
    {
     "data": {
      "text/plain": [
       "'若能成功上市'"
      ]
     },
     "execution_count": 39,
     "metadata": {},
     "output_type": "execute_result"
    }
   ],
   "source": [
    "removeKey('若登革熱疫苗能成功上市',['登革熱','疫苗'])"
   ]
  },
  {
   "cell_type": "markdown",
   "metadata": {},
   "source": [
    "## 長詞優先法"
   ]
  },
  {
   "cell_type": "code",
   "execution_count": null,
   "metadata": {
    "collapsed": true
   },
   "outputs": [],
   "source": [
    "def ngram(sentence, n = 2):\n",
    "    ary = []\n",
    "    for i in range(0, len(sentence) - n + 1):\n",
    "        ary.append(sentence[i:i+n])\n",
    "    return Counter(ary)"
   ]
  },
  {
   "cell_type": "code",
   "execution_count": null,
   "metadata": {
    "collapsed": true
   },
   "outputs": [],
   "source": [
    "def removeKey(sentence, keywords):\n",
    "    for keyword in keywords:\n",
    "        sentence = ''.join(a.split(keyword))\n",
    "    return sentence"
   ]
  },
  {
   "cell_type": "code",
   "execution_count": 40,
   "metadata": {
    "collapsed": true
   },
   "outputs": [],
   "source": [
    "import re\n",
    "article = '''氣候變遷讓登革熱成為各國公共衛生的燙手山芋，前年在國內造成4萬多例感染，228人死亡的嚴重疫情，尤其是台南市成疫情重災區，時任台南市長的行政院長賴清德今早出席「登革熱國際防治論壇」，表達對防疫的重視。他強調，登革熱防疫須有對策，否則疫情不會僅限於南台灣，國內死亡病例有高齡、患慢性病等特性，與東南亞國家不同，台南經驗可供疫苗研發參考。\n",
    "賴清德表示，蚊子散佈疾病造成人類喪生的威脅比世界大戰還大，前年擔任台南市長面臨有史以來最嚴重的登革熱疫情，共有2萬多例病例，半數是9歲以下、55歲以上，且流行病學調查顯示，當時台南的登革熱死亡有108例，平均年齡約70歲，其中90％至少患1種慢性病。\n",
    "去年6月衛福部疾管署與美國國家衛生研究院簽署合作備忘錄，將共同研發全球首款針對高齡族群的登革熱疫苗，將在台進行臨床試驗。賴說，目前政府的防疫作為主要是化學防治、孳生源清除，若登革熱疫苗能成功上市，防疫會更有效率。（蔡明樺／台北報導）'''\n",
    "sentence_ary = re.split('，|。|「|」|、|\\n|／|\"|（|）', article)"
   ]
  },
  {
   "cell_type": "code",
   "execution_count": 51,
   "metadata": {
    "collapsed": false
   },
   "outputs": [
    {
     "data": {
      "text/plain": [
       "[]"
      ]
     },
     "execution_count": 51,
     "metadata": {},
     "output_type": "execute_result"
    }
   ],
   "source": [
    "keywords    = []\n",
    "term_length = 4\n",
    "threshold   = 5\n",
    "\n",
    "word_counter = Counter()\n",
    "\n",
    "for sentence in sentence_ary:\n",
    "    text = removeKey(sentence, keywords)\n",
    "    word_counter = word_counter + ngram(text, term_length)\n",
    "    \n",
    "for word, value in word_counter.items():\n",
    "    #print(word, value)\n",
    "    if value >= threshold:\n",
    "        keywords.append(word)\n",
    "        \n",
    "keywords"
   ]
  },
  {
   "cell_type": "code",
   "execution_count": 56,
   "metadata": {
    "collapsed": false
   },
   "outputs": [
    {
     "data": {
      "text/plain": [
       "[('登革熱', 7),\n",
       " ('台南市', 3),\n",
       " ('的登革', 3),\n",
       " ('革熱疫', 3),\n",
       " ('，前年', 2),\n",
       " ('萬多例', 2),\n",
       " ('疫情，', 2),\n",
       " ('任台南', 2),\n",
       " ('南市長', 2),\n",
       " ('賴清德', 2)]"
      ]
     },
     "execution_count": 56,
     "metadata": {},
     "output_type": "execute_result"
    }
   ],
   "source": [
    "ngram(article, 3).most_common(10)"
   ]
  },
  {
   "cell_type": "code",
   "execution_count": 60,
   "metadata": {
    "collapsed": false
   },
   "outputs": [
    {
     "data": {
      "text/plain": [
       "['登革熱',\n",
       " '萬多例',\n",
       " '台南市',\n",
       " '任台南',\n",
       " '南市長',\n",
       " '賴清德',\n",
       " '慢性病',\n",
       " '的登革',\n",
       " '革熱疫',\n",
       " '熱疫苗',\n",
       " '若能',\n",
       " '能成',\n",
       " '成功',\n",
       " '功上',\n",
       " '上市']"
      ]
     },
     "execution_count": 60,
     "metadata": {},
     "output_type": "execute_result"
    }
   ],
   "source": [
    "keywords    = []\n",
    "threshold   = 2\n",
    "\n",
    "for term_length in range(3, 1, -1):\n",
    "    word_counter = Counter()\n",
    "\n",
    "    for sentence in sentence_ary:\n",
    "        text = removeKey(sentence, keywords)\n",
    "        word_counter = word_counter + ngram(text, term_length)\n",
    "\n",
    "    for word, value in word_counter.items():\n",
    "        #print(word, value)\n",
    "        if value >= threshold:\n",
    "            keywords.append(word)\n",
    "        \n",
    "keywords"
   ]
  }
 ],
 "metadata": {
  "kernelspec": {
   "display_name": "Python 3",
   "language": "python",
   "name": "python3"
  }
 },
 "nbformat": 4,
 "nbformat_minor": 2
}
