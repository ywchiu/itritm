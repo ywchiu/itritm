{
 "cells": [
  {
   "cell_type": "markdown",
   "metadata": {},
   "source": [
    "## 使用正規表達法斷詞"
   ]
  },
  {
   "cell_type": "code",
   "execution_count": 6,
   "metadata": {
    "collapsed": false
   },
   "outputs": [
    {
     "data": {
      "text/plain": [
       "['氣候變遷讓登革熱成為各國公共衛生的燙手山芋',\n",
       " '前年在國內造成4萬多例感染',\n",
       " '228人死亡的嚴重疫情',\n",
       " '尤其是台南市成疫情重災區',\n",
       " '時任台南市長的行政院長賴清德今早出席',\n",
       " '登革熱國際防治論壇',\n",
       " '',\n",
       " '表達對防疫的重視',\n",
       " '他強調',\n",
       " '登革熱防疫須有對策',\n",
       " '否則疫情不會僅限於南台灣',\n",
       " '國內死亡病例有高齡',\n",
       " '患慢性病等特性',\n",
       " '與東南亞國家不同',\n",
       " '台南經驗可供疫苗研發參考',\n",
       " '']"
      ]
     },
     "execution_count": 6,
     "metadata": {},
     "output_type": "execute_result"
    }
   ],
   "source": [
    "import re\n",
    "article = '''氣候變遷讓登革熱成為各國公共衛生的燙手山芋，前年在國內造成4萬多例感染，228人死亡的嚴重疫情，尤其是台南市成疫情重災區，時任台南市長的行政院長賴清德今早出席「登革熱國際防治論壇」，表達對防疫的重視。他強調，登革熱防疫須有對策，否則疫情不會僅限於南台灣，國內死亡病例有高齡、患慢性病等特性，與東南亞國家不同，台南經驗可供疫苗研發參考。'''\n",
    "re.split('，|。|「|」|、', article)"
   ]
  },
  {
   "cell_type": "markdown",
   "metadata": {},
   "source": [
    "## 安裝 Jieba"
   ]
  },
  {
   "cell_type": "code",
   "execution_count": 7,
   "metadata": {
    "collapsed": false
   },
   "outputs": [
    {
     "name": "stdout",
     "output_type": "stream",
     "text": [
      "Requirement already satisfied: jieba in c:\\programdata\\anaconda3\\lib\\site-packages\n"
     ]
    }
   ],
   "source": [
    "! pip install jieba"
   ]
  },
  {
   "cell_type": "markdown",
   "metadata": {},
   "source": [
    "## 使用Jieba 切詞"
   ]
  },
  {
   "cell_type": "code",
   "execution_count": 2,
   "metadata": {
    "collapsed": false
   },
   "outputs": [
    {
     "name": "stderr",
     "output_type": "stream",
     "text": [
      "Building prefix dict from the default dictionary ...\n",
      "Loading model from cache C:\\Users\\User\\AppData\\Local\\Temp\\jieba.cache\n",
      "Loading model cost 1.153 seconds.\n",
      "Prefix dict has been built succesfully.\n"
     ]
    },
    {
     "name": "stdout",
     "output_type": "stream",
     "text": [
      "大\n",
      "巨蛋\n",
      "案對\n",
      "市府\n",
      "同仁\n",
      "下\n",
      "封口令\n",
      "？\n",
      "　\n",
      "柯\n",
      "P\n",
      "否認\n"
     ]
    }
   ],
   "source": [
    "import jieba\n",
    "for w in jieba.cut(\"大巨蛋案對市府同仁下封口令？　柯P否認\"):\n",
    "    print(w)"
   ]
  },
  {
   "cell_type": "code",
   "execution_count": 3,
   "metadata": {
    "collapsed": false
   },
   "outputs": [
    {
     "name": "stdout",
     "output_type": "stream",
     "text": [
      "大\n",
      "巨蛋\n",
      "案\n",
      "對\n",
      "市府\n",
      "同仁\n",
      "下\n",
      "封口\n",
      "封口令\n",
      "口令\n",
      "\n",
      "\n",
      "\n",
      "柯\n",
      "P\n",
      "否\n",
      "認\n"
     ]
    }
   ],
   "source": [
    "import jieba\n",
    "for w in jieba.cut(\"大巨蛋案對市府同仁下封口令？　柯P否認\", cut_all=True):\n",
    "    print(w)"
   ]
  },
  {
   "cell_type": "code",
   "execution_count": 1,
   "metadata": {
    "collapsed": false
   },
   "outputs": [
    {
     "name": "stderr",
     "output_type": "stream",
     "text": [
      "Building prefix dict from the default dictionary ...\n",
      "Loading model from cache C:\\Users\\User\\AppData\\Local\\Temp\\jieba.cache\n",
      "Loading model cost 1.114 seconds.\n",
      "Prefix dict has been built succesfully.\n"
     ]
    },
    {
     "data": {
      "text/plain": [
       "['大', '巨蛋', '案對', '市府', '同仁', '下', '封口令', '？', '\\u3000', '柯', 'P', '否認']"
      ]
     },
     "execution_count": 1,
     "metadata": {},
     "output_type": "execute_result"
    }
   ],
   "source": [
    "import jieba\n",
    "ary = []\n",
    "for w in jieba.cut(\"大巨蛋案對市府同仁下封口令？　柯P否認\"):\n",
    "    ary.append(w)\n",
    "ary"
   ]
  },
  {
   "cell_type": "code",
   "execution_count": 6,
   "metadata": {
    "collapsed": false
   },
   "outputs": [
    {
     "data": {
      "text/plain": [
       "['大', '巨蛋', '案對', '市府', '同仁', '下', '封口令', '？', '\\u3000', '柯', 'P', '否認']"
      ]
     },
     "execution_count": 6,
     "metadata": {},
     "output_type": "execute_result"
    }
   ],
   "source": [
    "[w for w in jieba.cut(\"大巨蛋案對市府同仁下封口令？　柯P否認\")]"
   ]
  },
  {
   "cell_type": "code",
   "execution_count": 7,
   "metadata": {
    "collapsed": false
   },
   "outputs": [
    {
     "data": {
      "text/plain": [
       "['大巨蛋', '案對', '市府', '同仁', '下', '封口令', '？', '\\u3000', '柯P', '否認']"
      ]
     },
     "execution_count": 7,
     "metadata": {},
     "output_type": "execute_result"
    }
   ],
   "source": [
    "## add_word 只有暫時生效\n",
    "jieba.add_word('大巨蛋')\n",
    "jieba.add_word('柯P')\n",
    "[w for w in jieba.cut(\"大巨蛋案對市府同仁下封口令？　柯P否認\")]"
   ]
  },
  {
   "cell_type": "code",
   "execution_count": 9,
   "metadata": {
    "collapsed": false
   },
   "outputs": [
    {
     "name": "stderr",
     "output_type": "stream",
     "text": [
      "Building prefix dict from C:\\Users\\User\\itritm\\dict.txt ...\n",
      "Loading model from cache C:\\Users\\User\\AppData\\Local\\Temp\\jieba.uf0178d4b7c79c465ac9d115367f9739d.cache\n",
      "Loading model cost 0.005 seconds.\n",
      "Prefix dict has been built succesfully.\n"
     ]
    },
    {
     "name": "stdout",
     "output_type": "stream",
     "text": [
      "大巨蛋/案對/市府/同仁下/封口令/？/　/柯P/否認\n"
     ]
    }
   ],
   "source": [
    "import jieba\n",
    "jieba.set_dictionary('dict.txt')\n",
    "[w for w in jieba.cut(\"大巨蛋案對市府同仁下封口令？　柯P否認\")]\n",
    "'/'.join([w for w in jieba.cut(\"大巨蛋案對市府同仁下封口令？　柯P否認\")])\n",
    "print('/'.join([w for w in jieba.cut(\"大巨蛋案對市府同仁下封口令？　柯P否認\")]))"
   ]
  },
  {
   "cell_type": "code",
   "execution_count": 15,
   "metadata": {
    "collapsed": false
   },
   "outputs": [
    {
     "data": {
      "text/plain": [
       "['大巨蛋', '案對', '市府', '同仁下', '封口令', '？', ' ', '柯P', '否認']"
      ]
     },
     "execution_count": 15,
     "metadata": {},
     "output_type": "execute_result"
    }
   ],
   "source": [
    "# method 1:\n",
    "sentence = \"大巨蛋案對市府同仁下封口令？　柯P否認\"\n",
    "' '.join(sentence.split())\n",
    "[w for w in jieba.cut(' '.join(sentence.split()))]\n"
   ]
  },
  {
   "cell_type": "code",
   "execution_count": 16,
   "metadata": {
    "collapsed": false
   },
   "outputs": [
    {
     "data": {
      "text/plain": [
       "['大巨蛋', '案對', '市府', '同仁下', '封口令', '？', '', '柯P', '否認']"
      ]
     },
     "execution_count": 16,
     "metadata": {},
     "output_type": "execute_result"
    }
   ],
   "source": [
    "# method2\n",
    "sentence = \"大巨蛋案對市府同仁下封口令？　柯P否認\"\n",
    "[w.strip() for w in jieba.cut(' '.join(sentence.split()))]"
   ]
  },
  {
   "cell_type": "code",
   "execution_count": 5,
   "metadata": {
    "collapsed": false
   },
   "outputs": [
    {
     "name": "stdout",
     "output_type": "stream",
     "text": [
      "大巨蛋 nr\n",
      "案 ng\n",
      "對 p\n",
      "市府 n\n",
      "同仁 n\n",
      "下封 v\n",
      "口令 n\n",
      "？ x\n",
      "　 x\n",
      "柯P x\n",
      "否認 v\n"
     ]
    }
   ],
   "source": [
    "import jieba\n",
    "import jieba.posseg as pseg\n",
    "\n",
    "jieba.add_word('大巨蛋', 100, 'nr' )\n",
    "words = pseg.cut(\"大巨蛋案對市府同仁下封口令？　柯P否認\")\n",
    "\n",
    "for w in words:\n",
    "    print(w.word, w.flag)"
   ]
  },
  {
   "cell_type": "code",
   "execution_count": 7,
   "metadata": {
    "collapsed": false
   },
   "outputs": [
    {
     "name": "stdout",
     "output_type": "stream",
     "text": [
      "大巨蛋 0 3\n",
      "案對 3 5\n",
      "市府 5 7\n",
      "同仁下 7 10\n",
      "封口令 10 13\n",
      "？ 13 14\n",
      "　 14 15\n",
      "柯P 15 17\n",
      "否認 17 19\n"
     ]
    }
   ],
   "source": [
    "words = jieba.tokenize(\"大巨蛋案對市府同仁下封口令？　柯P否認\")\n",
    "\n",
    "for tw in words:\n",
    "    print(tw[0], tw[1], tw[2])\n"
   ]
  },
  {
   "cell_type": "code",
   "execution_count": 8,
   "metadata": {
    "collapsed": false
   },
   "outputs": [
    {
     "name": "stdout",
     "output_type": "stream",
     "text": [
      "封口令\n"
     ]
    }
   ],
   "source": [
    "import jieba.analyse\n",
    "tags = jieba.analyse.extract_tags(\"大巨蛋案對市府同仁下封口令？　柯P否認\", 1)\n",
    "print(\",\".join(tags))\n"
   ]
  },
  {
   "cell_type": "markdown",
   "metadata": {},
   "source": [
    "## 拿掉中間空白"
   ]
  },
  {
   "cell_type": "code",
   "execution_count": 11,
   "metadata": {
    "collapsed": false
   },
   "outputs": [
    {
     "data": {
      "text/plain": [
       "'i love this book'"
      ]
     },
     "execution_count": 11,
     "metadata": {},
     "output_type": "execute_result"
    }
   ],
   "source": [
    "sentence = '        i                      love                this        book'\n",
    "sentence.split()\n",
    "' '.join(sentence.split())"
   ]
  },
  {
   "cell_type": "markdown",
   "metadata": {},
   "source": [
    "## 獲取新詞"
   ]
  },
  {
   "cell_type": "code",
   "execution_count": 10,
   "metadata": {
    "collapsed": false
   },
   "outputs": [
    {
     "name": "stdout",
     "output_type": "stream",
     "text": [
      "北韓\n",
      "川普\n",
      "美國\n",
      "金正恩\n"
     ]
    }
   ],
   "source": [
    "import requests\n",
    "from bs4 import BeautifulSoup\n",
    "res =  requests.get('http://news.ltn.com.tw/news/world/breakingnews/2196565')\n",
    "soup = BeautifulSoup(res.text, 'html.parser')\n",
    "for keyword in soup.select('.keyword a'):\n",
    "    print(keyword.text)"
   ]
  }
 ],
 "metadata": {
  "kernelspec": {
   "display_name": "Python 3",
   "language": "python",
   "name": "python3"
  }
 },
 "nbformat": 4,
 "nbformat_minor": 2
}
