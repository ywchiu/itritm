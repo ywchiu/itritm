{
 "cells": [
  {
   "cell_type": "markdown",
   "metadata": {},
   "source": [
    "## Python Basic"
   ]
  },
  {
   "cell_type": "code",
   "execution_count": 1,
   "metadata": {},
   "outputs": [
    {
     "data": {
      "text/plain": [
       "5"
      ]
     },
     "execution_count": 1,
     "metadata": {},
     "output_type": "execute_result"
    }
   ],
   "source": [
    "a = 2\n",
    "b = 3\n",
    "a + b"
   ]
  },
  {
   "cell_type": "code",
   "execution_count": 2,
   "metadata": {},
   "outputs": [
    {
     "data": {
      "text/plain": [
       "12"
      ]
     },
     "execution_count": 2,
     "metadata": {},
     "output_type": "execute_result"
    }
   ],
   "source": [
    "a + 10"
   ]
  },
  {
   "cell_type": "markdown",
   "metadata": {},
   "source": [
    "## 使用GET 抓取網頁"
   ]
  },
  {
   "cell_type": "code",
   "execution_count": 6,
   "metadata": {},
   "outputs": [
    {
     "data": {
      "text/plain": [
       "<Response [200]>"
      ]
     },
     "execution_count": 6,
     "metadata": {},
     "output_type": "execute_result"
    }
   ],
   "source": [
    "import requests\n",
    "res = requests.get('http://www.appledaily.com.tw/realtimenews/section/new/')\n",
    "res"
   ]
  },
  {
   "cell_type": "code",
   "execution_count": 8,
   "metadata": {
    "collapsed": true
   },
   "outputs": [],
   "source": [
    "#res.text"
   ]
  },
  {
   "cell_type": "code",
   "execution_count": 10,
   "metadata": {},
   "outputs": [
    {
     "data": {
      "text/plain": [
       "requests.models.Response"
      ]
     },
     "execution_count": 10,
     "metadata": {},
     "output_type": "execute_result"
    }
   ],
   "source": [
    "type(res)"
   ]
  },
  {
   "cell_type": "markdown",
   "metadata": {
    "collapsed": true
   },
   "source": [
    "## 使用BeautifulSoup 剖析頁面"
   ]
  },
  {
   "cell_type": "code",
   "execution_count": 9,
   "metadata": {},
   "outputs": [
    {
     "data": {
      "text/plain": [
       "'\\n\\n\\nHello World\\nThis is link1\\nThis is link2\\n\\n'"
      ]
     },
     "execution_count": 9,
     "metadata": {},
     "output_type": "execute_result"
    }
   ],
   "source": [
    "from bs4 import BeautifulSoup \n",
    "html_sample = '''\n",
    "<html> \n",
    " <body> \n",
    "   <h1 id=\"title\">Hello World</h1> \n",
    "   <a href=\"#\" class=\"link\">This is link1</a> \n",
    "   <a href=\"# link2\" class=\"link\">This is link2</a> \n",
    " </body> \n",
    "</html>'''\n",
    "\n",
    "soup = BeautifulSoup(html_sample, 'html.parser')\n",
    "soup.text\n"
   ]
  },
  {
   "cell_type": "code",
   "execution_count": 11,
   "metadata": {},
   "outputs": [
    {
     "data": {
      "text/plain": [
       "bs4.BeautifulSoup"
      ]
     },
     "execution_count": 11,
     "metadata": {},
     "output_type": "execute_result"
    }
   ],
   "source": [
    "type(soup)"
   ]
  },
  {
   "cell_type": "code",
   "execution_count": 15,
   "metadata": {},
   "outputs": [
    {
     "name": "stdout",
     "output_type": "stream",
     "text": [
      "[<h1 id=\"title\">Hello World</h1>]\n",
      "<h1 id=\"title\">Hello World</h1>\n",
      "Hello World\n"
     ]
    }
   ],
   "source": [
    "print(soup.select('h1'))\n",
    "print(soup.select('h1')[0])\n",
    "print(soup.select('h1')[0].text)"
   ]
  },
  {
   "cell_type": "code",
   "execution_count": 18,
   "metadata": {},
   "outputs": [
    {
     "name": "stdout",
     "output_type": "stream",
     "text": [
      "<h1 id=\"title\">Hello World</h1>\n",
      "Hello World\n"
     ]
    }
   ],
   "source": [
    "print(soup.select_one('h1'))\n",
    "print(soup.select_one('h1').text)"
   ]
  },
  {
   "cell_type": "code",
   "execution_count": 21,
   "metadata": {},
   "outputs": [
    {
     "name": "stdout",
     "output_type": "stream",
     "text": [
      "[<a class=\"link\" href=\"#\">This is link1</a>, <a class=\"link\" href=\"# link2\">This is link2</a>]\n",
      "<a class=\"link\" href=\"#\">This is link1</a>\n",
      "This is link1\n"
     ]
    }
   ],
   "source": [
    "print(soup.select('a'))\n",
    "print(soup.select('a')[0])\n",
    "print(soup.select('a')[0].text)"
   ]
  },
  {
   "cell_type": "code",
   "execution_count": 24,
   "metadata": {},
   "outputs": [
    {
     "name": "stdout",
     "output_type": "stream",
     "text": [
      "[<a class=\"link\" href=\"#\">This is link1</a>, <a class=\"link\" href=\"# link2\">This is link2</a>]\n"
     ]
    }
   ],
   "source": [
    "print(soup.select('a'))"
   ]
  },
  {
   "cell_type": "code",
   "execution_count": 26,
   "metadata": {},
   "outputs": [
    {
     "name": "stdout",
     "output_type": "stream",
     "text": [
      "This is link1\n",
      "This is link2\n"
     ]
    }
   ],
   "source": [
    "for link in soup.select('a'):\n",
    "    #print(link)\n",
    "    print(link.text)"
   ]
  },
  {
   "cell_type": "code",
   "execution_count": 28,
   "metadata": {},
   "outputs": [
    {
     "data": {
      "text/plain": [
       "[<h1 id=\"title\">Hello World</h1>]"
      ]
     },
     "execution_count": 28,
     "metadata": {},
     "output_type": "execute_result"
    }
   ],
   "source": [
    "# id => #\n",
    "soup.select('#title')"
   ]
  },
  {
   "cell_type": "code",
   "execution_count": 29,
   "metadata": {},
   "outputs": [
    {
     "data": {
      "text/plain": [
       "[<a class=\"link\" href=\"#\">This is link1</a>,\n",
       " <a class=\"link\" href=\"# link2\">This is link2</a>]"
      ]
     },
     "execution_count": 29,
     "metadata": {},
     "output_type": "execute_result"
    }
   ],
   "source": [
    "# class => .\n",
    "soup.select('.link')"
   ]
  },
  {
   "cell_type": "code",
   "execution_count": 34,
   "metadata": {},
   "outputs": [
    {
     "name": "stdout",
     "output_type": "stream",
     "text": [
      "#\n",
      "# link2\n"
     ]
    }
   ],
   "source": [
    "for link in soup.select('.link'):\n",
    "    #print(link)\n",
    "    #print(link.text)\n",
    "    print(link['href'])"
   ]
  },
  {
   "cell_type": "markdown",
   "metadata": {},
   "source": [
    "## 蘋果新聞搜集實做"
   ]
  },
  {
   "cell_type": "code",
   "execution_count": 38,
   "metadata": {
    "collapsed": true
   },
   "outputs": [],
   "source": [
    "import requests\n",
    "res = requests.get('http://www.appledaily.com.tw/realtimenews/section/new/')\n",
    "#res.text"
   ]
  },
  {
   "cell_type": "code",
   "execution_count": 39,
   "metadata": {
    "collapsed": true
   },
   "outputs": [],
   "source": [
    "from bs4 import BeautifulSoup\n",
    "soup = BeautifulSoup(res.text, 'html.parser')"
   ]
  },
  {
   "cell_type": "code",
   "execution_count": 55,
   "metadata": {},
   "outputs": [
    {
     "name": "stdout",
     "output_type": "stream",
     "text": [
      "【獨家】海軍驚爆不倫戀！　已婚男女軍士官...(0) 政治 11:30 http://www.appledaily.com.tw/realtimenews/article/politics/20170911/1200855/【獨家】海軍驚爆不倫戀！　已婚男女軍士官簽性愛合約書\n",
      "=============================\n",
      "奧斯卡影后多倫多集合　凱特溫絲蕾霸氣比讚(23) 娛樂 11:29 http://www.appledaily.com.tw/realtimenews/article/entertainment/20170911/1201313/奧斯卡影后多倫多集合　凱特溫絲蕾霸氣比讚\n",
      "=============================\n",
      "木柵農會代表賄選案　15人都認罪(0) 社會 11:28 http://www.appledaily.com.tw/realtimenews/article/local/20170911/1201338/木柵農會代表賄選案　15人都認罪\n",
      "=============================\n",
      "為稅改按讚　童子賢：提高扣除額是減輕出力...(0) 財經 11:28 http://www.appledaily.com.tw/realtimenews/article/finance/20170911/1201355/為稅改按讚　童子賢：提高扣除額是減輕出力人負擔\n",
      "=============================\n",
      "新iPhone 9/15預購　台哥大粉專...(0) 3C 11:27 http://www.appledaily.com.tw/realtimenews/article/3c/20170911/1201356/新iPhone9/15預購　台哥大粉專這樣說\n",
      "=============================\n",
      "作家看妙禪　「還不如賣１０元自助餐阿嬤」(17) 生活 11:23 http://www.appledaily.com.tw/realtimenews/article/life/20170911/1201347/作家看妙禪　「還不如賣１０元自助餐阿嬤」\n",
      "=============================\n",
      "單身女15坪小宅　私密空間好強大(102) 地產 11:22 http://www.appledaily.com.tw/realtimenews/article/property/20170911/1198161/單身女15坪小宅　私密空間好強大\n",
      "=============================\n",
      "柯市長勞軍有三「怪」(6) 論壇 11:22 http://www.appledaily.com.tw/realtimenews/article/forum/20170911/1201349/柯市長勞軍有三「怪」\n",
      "=============================\n",
      "【不斷更新】泰利海警估明上午11:30發...(65626) 生活 11:21 http://www.appledaily.com.tw/realtimenews/article/life/20170911/1201288/【不斷更新】泰利海警估明上午11:30發布　陸警明晚8:30發布\n",
      "=============================\n",
      "【災難片】艾瑪颶風登陸佛州　已釀4死25...(16570) 國際 11:20 http://www.appledaily.com.tw/realtimenews/article/international/20170911/1201213/【災難片】艾瑪颶風登陸佛州　已釀4死250萬戶斷電\n",
      "=============================\n",
      "天雷操演震撼登場　36門重砲擊發216枚...(115) 政治 11:20 http://www.appledaily.com.tw/realtimenews/article/politics/20170911/1201294/天雷操演震撼登場　36門重砲擊發216枚砲彈\n",
      "=============================\n",
      "泰利海警估明上午11:30發布　陸警明晚...(0) 生活 11:20 http://www.appledaily.com.tw/realtimenews/article/life/20170911/1201354/泰利海警估明上午11:30發布　陸警明晚8:30發布\n",
      "=============================\n",
      "【商機片】中國擬禁售汽柴油車　電動車大利...(4325) 財經 11:19 http://www.appledaily.com.tw/realtimenews/article/finance/20170911/1201186/【商機片】中國擬禁售汽柴油車　電動車大利多\n",
      "=============================\n",
      "又是酒駕！　醉騎士路口撞轎車噴飛10公尺...(7034) 社會 11:19 http://www.appledaily.com.tw/realtimenews/article/local/20170911/1201233/又是酒駕！　醉騎士路口撞轎車噴飛10公尺急救中\n",
      "=============================\n",
      "學生蹲捷運地板寫功課　一張照片引起熱議(1072) 生活 11:15 http://www.appledaily.com.tw/realtimenews/article/life/20170911/1201308/學生蹲捷運地板寫功課　一張照片引起熱議\n",
      "=============================\n",
      "【有片】賴神見昌神　黃國昌：會全力支持福...(676) 政治 11:12 http://www.appledaily.com.tw/realtimenews/article/politics/20170911/1201336/【有片】賴神見昌神　黃國昌：會全力支持福國利民政策\n",
      "=============================\n",
      "大聯盟3台將　今天均待命未上場(183) 體育 11:12 http://www.appledaily.com.tw/realtimenews/article/sports/20170911/1201344/大聯盟3台將　今天均待命未上場\n",
      "=============================\n",
      "【狠心片】男童遭父親女友毒打　逃到診所要...(23270) 社會 11:08 http://www.appledaily.com.tw/realtimenews/article/local/20170911/1201216/【狠心片】男童遭父親女友毒打　逃到診所要水喝才獲救\n",
      "=============================\n",
      "【不斷更新】李明哲被控共同成立｢梅花公司...(47838) 政治 11:06 http://www.appledaily.com.tw/realtimenews/article/politics/20170911/1201268/【不斷更新】李明哲被控共同成立｢梅花公司」　倡多黨輪流執政\n",
      "=============================\n",
      "下水道工程意外　宜蘭1工人遭活埋(1241) 社會 11:05 http://www.appledaily.com.tw/realtimenews/article/local/20170911/1201337/下水道工程意外　宜蘭1工人遭活埋\n",
      "=============================\n",
      "​南電強調加薪幅度一視同仁　無男女區分(500) 財經 11:04 http://www.appledaily.com.tw/realtimenews/article/finance/20170911/1201340/​南電強調加薪幅度一視同仁　無男女區分\n",
      "=============================\n",
      "紫牛之星5強出爐　前進東南亞尋商機(42) 財經 11:02 http://www.appledaily.com.tw/realtimenews/article/finance/20170911/1201342/紫牛之星5強出爐　前進東南亞尋商機\n",
      "=============================\n",
      "日本女星終結2年婚　贍養費一毛都沒拿(2601) 娛樂 11:00 http://www.appledaily.com.tw/realtimenews/article/entertainment/20170911/1201277/日本女星終結2年婚　贍養費一毛都沒拿\n",
      "=============================\n",
      "首度視察氣象局　賴揆：雨量若以多報少問題...(1393) 生活 11:00 http://www.appledaily.com.tw/realtimenews/article/life/20170911/1201333/首度視察氣象局　賴揆：雨量若以多報少問題很嚴重\n",
      "=============================\n",
      "駕BMW撞運將成重傷　醉男耍無賴惡行曝光(17402) 社會 10:57 http://www.appledaily.com.tw/realtimenews/article/local/20170911/1201236/駕BMW撞運將成重傷　醉男耍無賴惡行曝光\n",
      "=============================\n",
      "向麥當勞索賠7千萬　消防夫妻檔遭起訴(6107) 社會 10:57 http://www.appledaily.com.tw/realtimenews/article/local/20170911/1201326/向麥當勞索賠7千萬　消防夫妻檔遭起訴\n",
      "=============================\n",
      "丟包時連鑰匙一起丟　警循線破獲毒品分裝廠(613) 社會 10:54 http://www.appledaily.com.tw/realtimenews/article/local/20170911/1201298/丟包時連鑰匙一起丟　警循線破獲毒品分裝廠\n",
      "=============================\n",
      "試圖偷走收銀機錢財　男被逮竟辯稱想抓癢(237) 社會 10:54 http://www.appledaily.com.tw/realtimenews/article/local/20170911/1201320/試圖偷走收銀機錢財　男被逮竟辯稱想抓癢\n",
      "=============================\n",
      "詹詠然聲明提到這句話　謝淑薇打臉了(15485) 體育 10:53 http://www.appledaily.com.tw/realtimenews/article/sports/20170911/1201328/詹詠然聲明提到這句話　謝淑薇打臉了\n",
      "=============================\n",
      "賴清德拜會民進黨團　盼共同承擔、共同面對...(874) 政治 10:49 http://www.appledaily.com.tw/realtimenews/article/politics/20170911/1201319/賴清德拜會民進黨團　盼共同承擔、共同面對、開創新局\n",
      "=============================\n"
     ]
    }
   ],
   "source": [
    "domain = 'http://www.appledaily.com.tw'\n",
    "for news in soup.select('.rtddt a'):\n",
    "    #print(news)\n",
    "    #print(news.select('h1')[0].text)\n",
    "    #print(news.select('h2')[0].text)\n",
    "    #print(news.select('time')[0].text)\n",
    "    #print(domain + news['href'])\n",
    "    title    = news.select('h1')[0].text\n",
    "    category = news.select('h2')[0].text\n",
    "    time     = news.select('time')[0].text\n",
    "    url      = domain + news['href']\n",
    "    print(title, category, time, url)\n",
    "    print(\"=============================\")"
   ]
  },
  {
   "cell_type": "code",
   "execution_count": 60,
   "metadata": {},
   "outputs": [],
   "source": [
    "domain = 'http://www.appledaily.com.tw'\n",
    "newsary = []\n",
    "for news in soup.select('.rtddt a'):\n",
    "    dic             = {}\n",
    "    dic['title']    = news.select('h1')[0].text\n",
    "    dic['category'] = news.select('h2')[0].text\n",
    "    dic['time']     = news.select('time')[0].text\n",
    "    dic['url']      = domain + news['href']\n",
    "    #print(dic)\n",
    "    newsary.append(dic)"
   ]
  },
  {
   "cell_type": "code",
   "execution_count": 65,
   "metadata": {},
   "outputs": [
    {
     "data": {
      "text/html": [
       "<div>\n",
       "<style>\n",
       "    .dataframe thead tr:only-child th {\n",
       "        text-align: right;\n",
       "    }\n",
       "\n",
       "    .dataframe thead th {\n",
       "        text-align: left;\n",
       "    }\n",
       "\n",
       "    .dataframe tbody tr th {\n",
       "        vertical-align: top;\n",
       "    }\n",
       "</style>\n",
       "<table border=\"1\" class=\"dataframe\">\n",
       "  <thead>\n",
       "    <tr style=\"text-align: right;\">\n",
       "      <th></th>\n",
       "      <th>category</th>\n",
       "      <th>time</th>\n",
       "      <th>title</th>\n",
       "      <th>url</th>\n",
       "    </tr>\n",
       "  </thead>\n",
       "  <tbody>\n",
       "    <tr>\n",
       "      <th>0</th>\n",
       "      <td>政治</td>\n",
       "      <td>11:30</td>\n",
       "      <td>【獨家】海軍驚爆不倫戀！　已婚男女軍士官...(0)</td>\n",
       "      <td>http://www.appledaily.com.tw/realtimenews/arti...</td>\n",
       "    </tr>\n",
       "    <tr>\n",
       "      <th>1</th>\n",
       "      <td>娛樂</td>\n",
       "      <td>11:29</td>\n",
       "      <td>奧斯卡影后多倫多集合　凱特溫絲蕾霸氣比讚(23)</td>\n",
       "      <td>http://www.appledaily.com.tw/realtimenews/arti...</td>\n",
       "    </tr>\n",
       "    <tr>\n",
       "      <th>2</th>\n",
       "      <td>社會</td>\n",
       "      <td>11:28</td>\n",
       "      <td>木柵農會代表賄選案　15人都認罪(0)</td>\n",
       "      <td>http://www.appledaily.com.tw/realtimenews/arti...</td>\n",
       "    </tr>\n",
       "  </tbody>\n",
       "</table>\n",
       "</div>"
      ],
      "text/plain": [
       "  category   time                       title  \\\n",
       "0       政治  11:30  【獨家】海軍驚爆不倫戀！　已婚男女軍士官...(0)   \n",
       "1       娛樂  11:29    奧斯卡影后多倫多集合　凱特溫絲蕾霸氣比讚(23)   \n",
       "2       社會  11:28         木柵農會代表賄選案　15人都認罪(0)   \n",
       "\n",
       "                                                 url  \n",
       "0  http://www.appledaily.com.tw/realtimenews/arti...  \n",
       "1  http://www.appledaily.com.tw/realtimenews/arti...  \n",
       "2  http://www.appledaily.com.tw/realtimenews/arti...  "
      ]
     },
     "execution_count": 65,
     "metadata": {},
     "output_type": "execute_result"
    }
   ],
   "source": [
    "import pandas\n",
    "df = pandas.DataFrame(newsary)\n",
    "df.head(3)"
   ]
  },
  {
   "cell_type": "markdown",
   "metadata": {},
   "source": [
    "## 字典"
   ]
  },
  {
   "cell_type": "code",
   "execution_count": 56,
   "metadata": {},
   "outputs": [
    {
     "data": {
      "text/plain": [
       "1"
      ]
     },
     "execution_count": 56,
     "metadata": {},
     "output_type": "execute_result"
    }
   ],
   "source": [
    "# list\n",
    "a = [1,2,3,4,5]\n",
    "\n",
    "# dict \n",
    "dic = {'a':1, 'b':2, 'c':3}\n",
    "dic['a'] "
   ]
  },
  {
   "cell_type": "code",
   "execution_count": 57,
   "metadata": {},
   "outputs": [
    {
     "data": {
      "text/plain": [
       "{'a': 1, 'b': 2, 'c': 3, 'd': 4}"
      ]
     },
     "execution_count": 57,
     "metadata": {},
     "output_type": "execute_result"
    }
   ],
   "source": [
    "dic['d'] = 4\n",
    "dic"
   ]
  },
  {
   "cell_type": "code",
   "execution_count": null,
   "metadata": {
    "collapsed": true
   },
   "outputs": [],
   "source": []
  }
 ],
 "metadata": {
  "kernelspec": {
   "display_name": "Python 3",
   "language": "python",
   "name": "python3"
  },
  "language_info": {
   "codemirror_mode": {
    "name": "ipython",
    "version": 3
   },
   "file_extension": ".py",
   "mimetype": "text/x-python",
   "name": "python",
   "nbconvert_exporter": "python",
   "pygments_lexer": "ipython3",
   "version": "3.6.1"
  }
 },
 "nbformat": 4,
 "nbformat_minor": 2
}
