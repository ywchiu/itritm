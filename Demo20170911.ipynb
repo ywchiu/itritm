{
 "cells": [
  {
   "cell_type": "markdown",
   "metadata": {},
   "source": [
    "## Python Basic"
   ]
  },
  {
   "cell_type": "code",
   "execution_count": 1,
   "metadata": {},
   "outputs": [
    {
     "data": {
      "text/plain": [
       "5"
      ]
     },
     "execution_count": 1,
     "metadata": {},
     "output_type": "execute_result"
    }
   ],
   "source": [
    "a = 2\n",
    "b = 3\n",
    "a + b"
   ]
  },
  {
   "cell_type": "code",
   "execution_count": 2,
   "metadata": {},
   "outputs": [
    {
     "data": {
      "text/plain": [
       "12"
      ]
     },
     "execution_count": 2,
     "metadata": {},
     "output_type": "execute_result"
    }
   ],
   "source": [
    "a + 10"
   ]
  },
  {
   "cell_type": "markdown",
   "metadata": {},
   "source": [
    "## 使用GET 抓取網頁"
   ]
  },
  {
   "cell_type": "code",
   "execution_count": 6,
   "metadata": {},
   "outputs": [
    {
     "data": {
      "text/plain": [
       "<Response [200]>"
      ]
     },
     "execution_count": 6,
     "metadata": {},
     "output_type": "execute_result"
    }
   ],
   "source": [
    "import requests\n",
    "res = requests.get('http://www.appledaily.com.tw/realtimenews/section/new/')\n",
    "res"
   ]
  },
  {
   "cell_type": "code",
   "execution_count": 8,
   "metadata": {
    "collapsed": true
   },
   "outputs": [],
   "source": [
    "#res.text"
   ]
  },
  {
   "cell_type": "code",
   "execution_count": 10,
   "metadata": {},
   "outputs": [
    {
     "data": {
      "text/plain": [
       "requests.models.Response"
      ]
     },
     "execution_count": 10,
     "metadata": {},
     "output_type": "execute_result"
    }
   ],
   "source": [
    "type(res)"
   ]
  },
  {
   "cell_type": "markdown",
   "metadata": {
    "collapsed": true
   },
   "source": [
    "## 使用BeautifulSoup 剖析頁面"
   ]
  },
  {
   "cell_type": "code",
   "execution_count": 9,
   "metadata": {},
   "outputs": [
    {
     "data": {
      "text/plain": [
       "'\\n\\n\\nHello World\\nThis is link1\\nThis is link2\\n\\n'"
      ]
     },
     "execution_count": 9,
     "metadata": {},
     "output_type": "execute_result"
    }
   ],
   "source": [
    "from bs4 import BeautifulSoup \n",
    "html_sample = '''\n",
    "<html> \n",
    " <body> \n",
    "   <h1 id=\"title\">Hello World</h1> \n",
    "   <a href=\"#\" class=\"link\">This is link1</a> \n",
    "   <a href=\"# link2\" class=\"link\">This is link2</a> \n",
    " </body> \n",
    "</html>'''\n",
    "\n",
    "soup = BeautifulSoup(html_sample, 'html.parser')\n",
    "soup.text\n"
   ]
  },
  {
   "cell_type": "code",
   "execution_count": 11,
   "metadata": {},
   "outputs": [
    {
     "data": {
      "text/plain": [
       "bs4.BeautifulSoup"
      ]
     },
     "execution_count": 11,
     "metadata": {},
     "output_type": "execute_result"
    }
   ],
   "source": [
    "type(soup)"
   ]
  },
  {
   "cell_type": "code",
   "execution_count": 15,
   "metadata": {},
   "outputs": [
    {
     "name": "stdout",
     "output_type": "stream",
     "text": [
      "[<h1 id=\"title\">Hello World</h1>]\n",
      "<h1 id=\"title\">Hello World</h1>\n",
      "Hello World\n"
     ]
    }
   ],
   "source": [
    "print(soup.select('h1'))\n",
    "print(soup.select('h1')[0])\n",
    "print(soup.select('h1')[0].text)"
   ]
  },
  {
   "cell_type": "code",
   "execution_count": 18,
   "metadata": {},
   "outputs": [
    {
     "name": "stdout",
     "output_type": "stream",
     "text": [
      "<h1 id=\"title\">Hello World</h1>\n",
      "Hello World\n"
     ]
    }
   ],
   "source": [
    "print(soup.select_one('h1'))\n",
    "print(soup.select_one('h1').text)"
   ]
  },
  {
   "cell_type": "code",
   "execution_count": 21,
   "metadata": {},
   "outputs": [
    {
     "name": "stdout",
     "output_type": "stream",
     "text": [
      "[<a class=\"link\" href=\"#\">This is link1</a>, <a class=\"link\" href=\"# link2\">This is link2</a>]\n",
      "<a class=\"link\" href=\"#\">This is link1</a>\n",
      "This is link1\n"
     ]
    }
   ],
   "source": [
    "print(soup.select('a'))\n",
    "print(soup.select('a')[0])\n",
    "print(soup.select('a')[0].text)"
   ]
  },
  {
   "cell_type": "code",
   "execution_count": 24,
   "metadata": {},
   "outputs": [
    {
     "name": "stdout",
     "output_type": "stream",
     "text": [
      "[<a class=\"link\" href=\"#\">This is link1</a>, <a class=\"link\" href=\"# link2\">This is link2</a>]\n"
     ]
    }
   ],
   "source": [
    "print(soup.select('a'))"
   ]
  },
  {
   "cell_type": "code",
   "execution_count": 26,
   "metadata": {},
   "outputs": [
    {
     "name": "stdout",
     "output_type": "stream",
     "text": [
      "This is link1\n",
      "This is link2\n"
     ]
    }
   ],
   "source": [
    "for link in soup.select('a'):\n",
    "    #print(link)\n",
    "    print(link.text)"
   ]
  },
  {
   "cell_type": "code",
   "execution_count": 28,
   "metadata": {},
   "outputs": [
    {
     "data": {
      "text/plain": [
       "[<h1 id=\"title\">Hello World</h1>]"
      ]
     },
     "execution_count": 28,
     "metadata": {},
     "output_type": "execute_result"
    }
   ],
   "source": [
    "# id => #\n",
    "soup.select('#title')"
   ]
  },
  {
   "cell_type": "code",
   "execution_count": 29,
   "metadata": {},
   "outputs": [
    {
     "data": {
      "text/plain": [
       "[<a class=\"link\" href=\"#\">This is link1</a>,\n",
       " <a class=\"link\" href=\"# link2\">This is link2</a>]"
      ]
     },
     "execution_count": 29,
     "metadata": {},
     "output_type": "execute_result"
    }
   ],
   "source": [
    "# class => .\n",
    "soup.select('.link')"
   ]
  },
  {
   "cell_type": "code",
   "execution_count": 34,
   "metadata": {},
   "outputs": [
    {
     "name": "stdout",
     "output_type": "stream",
     "text": [
      "#\n",
      "# link2\n"
     ]
    }
   ],
   "source": [
    "for link in soup.select('.link'):\n",
    "    #print(link)\n",
    "    #print(link.text)\n",
    "    print(link['href'])"
   ]
  },
  {
   "cell_type": "markdown",
   "metadata": {},
   "source": [
    "## 蘋果新聞搜集實做"
   ]
  },
  {
   "cell_type": "code",
   "execution_count": 38,
   "metadata": {
    "collapsed": true
   },
   "outputs": [],
   "source": [
    "import requests\n",
    "res = requests.get('http://www.appledaily.com.tw/realtimenews/section/new/')\n",
    "#res.text"
   ]
  },
  {
   "cell_type": "code",
   "execution_count": 39,
   "metadata": {
    "collapsed": true
   },
   "outputs": [],
   "source": [
    "from bs4 import BeautifulSoup\n",
    "soup = BeautifulSoup(res.text, 'html.parser')"
   ]
  },
  {
   "cell_type": "code",
   "execution_count": 55,
   "metadata": {},
   "outputs": [
    {
     "name": "stdout",
     "output_type": "stream",
     "text": [
      "【獨家】海軍驚爆不倫戀！　已婚男女軍士官...(0) 政治 11:30 http://www.appledaily.com.tw/realtimenews/article/politics/20170911/1200855/【獨家】海軍驚爆不倫戀！　已婚男女軍士官簽性愛合約書\n",
      "=============================\n",
      "奧斯卡影后多倫多集合　凱特溫絲蕾霸氣比讚(23) 娛樂 11:29 http://www.appledaily.com.tw/realtimenews/article/entertainment/20170911/1201313/奧斯卡影后多倫多集合　凱特溫絲蕾霸氣比讚\n",
      "=============================\n",
      "木柵農會代表賄選案　15人都認罪(0) 社會 11:28 http://www.appledaily.com.tw/realtimenews/article/local/20170911/1201338/木柵農會代表賄選案　15人都認罪\n",
      "=============================\n",
      "為稅改按讚　童子賢：提高扣除額是減輕出力...(0) 財經 11:28 http://www.appledaily.com.tw/realtimenews/article/finance/20170911/1201355/為稅改按讚　童子賢：提高扣除額是減輕出力人負擔\n",
      "=============================\n",
      "新iPhone 9/15預購　台哥大粉專...(0) 3C 11:27 http://www.appledaily.com.tw/realtimenews/article/3c/20170911/1201356/新iPhone9/15預購　台哥大粉專這樣說\n",
      "=============================\n",
      "作家看妙禪　「還不如賣１０元自助餐阿嬤」(17) 生活 11:23 http://www.appledaily.com.tw/realtimenews/article/life/20170911/1201347/作家看妙禪　「還不如賣１０元自助餐阿嬤」\n",
      "=============================\n",
      "單身女15坪小宅　私密空間好強大(102) 地產 11:22 http://www.appledaily.com.tw/realtimenews/article/property/20170911/1198161/單身女15坪小宅　私密空間好強大\n",
      "=============================\n",
      "柯市長勞軍有三「怪」(6) 論壇 11:22 http://www.appledaily.com.tw/realtimenews/article/forum/20170911/1201349/柯市長勞軍有三「怪」\n",
      "=============================\n",
      "【不斷更新】泰利海警估明上午11:30發...(65626) 生活 11:21 http://www.appledaily.com.tw/realtimenews/article/life/20170911/1201288/【不斷更新】泰利海警估明上午11:30發布　陸警明晚8:30發布\n",
      "=============================\n",
      "【災難片】艾瑪颶風登陸佛州　已釀4死25...(16570) 國際 11:20 http://www.appledaily.com.tw/realtimenews/article/international/20170911/1201213/【災難片】艾瑪颶風登陸佛州　已釀4死250萬戶斷電\n",
      "=============================\n",
      "天雷操演震撼登場　36門重砲擊發216枚...(115) 政治 11:20 http://www.appledaily.com.tw/realtimenews/article/politics/20170911/1201294/天雷操演震撼登場　36門重砲擊發216枚砲彈\n",
      "=============================\n",
      "泰利海警估明上午11:30發布　陸警明晚...(0) 生活 11:20 http://www.appledaily.com.tw/realtimenews/article/life/20170911/1201354/泰利海警估明上午11:30發布　陸警明晚8:30發布\n",
      "=============================\n",
      "【商機片】中國擬禁售汽柴油車　電動車大利...(4325) 財經 11:19 http://www.appledaily.com.tw/realtimenews/article/finance/20170911/1201186/【商機片】中國擬禁售汽柴油車　電動車大利多\n",
      "=============================\n",
      "又是酒駕！　醉騎士路口撞轎車噴飛10公尺...(7034) 社會 11:19 http://www.appledaily.com.tw/realtimenews/article/local/20170911/1201233/又是酒駕！　醉騎士路口撞轎車噴飛10公尺急救中\n",
      "=============================\n",
      "學生蹲捷運地板寫功課　一張照片引起熱議(1072) 生活 11:15 http://www.appledaily.com.tw/realtimenews/article/life/20170911/1201308/學生蹲捷運地板寫功課　一張照片引起熱議\n",
      "=============================\n",
      "【有片】賴神見昌神　黃國昌：會全力支持福...(676) 政治 11:12 http://www.appledaily.com.tw/realtimenews/article/politics/20170911/1201336/【有片】賴神見昌神　黃國昌：會全力支持福國利民政策\n",
      "=============================\n",
      "大聯盟3台將　今天均待命未上場(183) 體育 11:12 http://www.appledaily.com.tw/realtimenews/article/sports/20170911/1201344/大聯盟3台將　今天均待命未上場\n",
      "=============================\n",
      "【狠心片】男童遭父親女友毒打　逃到診所要...(23270) 社會 11:08 http://www.appledaily.com.tw/realtimenews/article/local/20170911/1201216/【狠心片】男童遭父親女友毒打　逃到診所要水喝才獲救\n",
      "=============================\n",
      "【不斷更新】李明哲被控共同成立｢梅花公司...(47838) 政治 11:06 http://www.appledaily.com.tw/realtimenews/article/politics/20170911/1201268/【不斷更新】李明哲被控共同成立｢梅花公司」　倡多黨輪流執政\n",
      "=============================\n",
      "下水道工程意外　宜蘭1工人遭活埋(1241) 社會 11:05 http://www.appledaily.com.tw/realtimenews/article/local/20170911/1201337/下水道工程意外　宜蘭1工人遭活埋\n",
      "=============================\n",
      "​南電強調加薪幅度一視同仁　無男女區分(500) 財經 11:04 http://www.appledaily.com.tw/realtimenews/article/finance/20170911/1201340/​南電強調加薪幅度一視同仁　無男女區分\n",
      "=============================\n",
      "紫牛之星5強出爐　前進東南亞尋商機(42) 財經 11:02 http://www.appledaily.com.tw/realtimenews/article/finance/20170911/1201342/紫牛之星5強出爐　前進東南亞尋商機\n",
      "=============================\n",
      "日本女星終結2年婚　贍養費一毛都沒拿(2601) 娛樂 11:00 http://www.appledaily.com.tw/realtimenews/article/entertainment/20170911/1201277/日本女星終結2年婚　贍養費一毛都沒拿\n",
      "=============================\n",
      "首度視察氣象局　賴揆：雨量若以多報少問題...(1393) 生活 11:00 http://www.appledaily.com.tw/realtimenews/article/life/20170911/1201333/首度視察氣象局　賴揆：雨量若以多報少問題很嚴重\n",
      "=============================\n",
      "駕BMW撞運將成重傷　醉男耍無賴惡行曝光(17402) 社會 10:57 http://www.appledaily.com.tw/realtimenews/article/local/20170911/1201236/駕BMW撞運將成重傷　醉男耍無賴惡行曝光\n",
      "=============================\n",
      "向麥當勞索賠7千萬　消防夫妻檔遭起訴(6107) 社會 10:57 http://www.appledaily.com.tw/realtimenews/article/local/20170911/1201326/向麥當勞索賠7千萬　消防夫妻檔遭起訴\n",
      "=============================\n",
      "丟包時連鑰匙一起丟　警循線破獲毒品分裝廠(613) 社會 10:54 http://www.appledaily.com.tw/realtimenews/article/local/20170911/1201298/丟包時連鑰匙一起丟　警循線破獲毒品分裝廠\n",
      "=============================\n",
      "試圖偷走收銀機錢財　男被逮竟辯稱想抓癢(237) 社會 10:54 http://www.appledaily.com.tw/realtimenews/article/local/20170911/1201320/試圖偷走收銀機錢財　男被逮竟辯稱想抓癢\n",
      "=============================\n",
      "詹詠然聲明提到這句話　謝淑薇打臉了(15485) 體育 10:53 http://www.appledaily.com.tw/realtimenews/article/sports/20170911/1201328/詹詠然聲明提到這句話　謝淑薇打臉了\n",
      "=============================\n",
      "賴清德拜會民進黨團　盼共同承擔、共同面對...(874) 政治 10:49 http://www.appledaily.com.tw/realtimenews/article/politics/20170911/1201319/賴清德拜會民進黨團　盼共同承擔、共同面對、開創新局\n",
      "=============================\n"
     ]
    }
   ],
   "source": [
    "domain = 'http://www.appledaily.com.tw'\n",
    "for news in soup.select('.rtddt a'):\n",
    "    #print(news)\n",
    "    #print(news.select('h1')[0].text)\n",
    "    #print(news.select('h2')[0].text)\n",
    "    #print(news.select('time')[0].text)\n",
    "    #print(domain + news['href'])\n",
    "    title    = news.select('h1')[0].text\n",
    "    category = news.select('h2')[0].text\n",
    "    time     = news.select('time')[0].text\n",
    "    url      = domain + news['href']\n",
    "    print(title, category, time, url)\n",
    "    print(\"=============================\")"
   ]
  },
  {
   "cell_type": "code",
   "execution_count": 60,
   "metadata": {
    "collapsed": true
   },
   "outputs": [],
   "source": [
    "domain = 'http://www.appledaily.com.tw'\n",
    "newsary = []\n",
    "for news in soup.select('.rtddt a'):\n",
    "    dic             = {}\n",
    "    dic['title']    = news.select('h1')[0].text\n",
    "    dic['category'] = news.select('h2')[0].text\n",
    "    dic['time']     = news.select('time')[0].text\n",
    "    dic['url']      = domain + news['href']\n",
    "    #print(dic)\n",
    "    newsary.append(dic)"
   ]
  },
  {
   "cell_type": "code",
   "execution_count": 65,
   "metadata": {},
   "outputs": [
    {
     "data": {
      "text/html": [
       "<div>\n",
       "<style>\n",
       "    .dataframe thead tr:only-child th {\n",
       "        text-align: right;\n",
       "    }\n",
       "\n",
       "    .dataframe thead th {\n",
       "        text-align: left;\n",
       "    }\n",
       "\n",
       "    .dataframe tbody tr th {\n",
       "        vertical-align: top;\n",
       "    }\n",
       "</style>\n",
       "<table border=\"1\" class=\"dataframe\">\n",
       "  <thead>\n",
       "    <tr style=\"text-align: right;\">\n",
       "      <th></th>\n",
       "      <th>category</th>\n",
       "      <th>time</th>\n",
       "      <th>title</th>\n",
       "      <th>url</th>\n",
       "    </tr>\n",
       "  </thead>\n",
       "  <tbody>\n",
       "    <tr>\n",
       "      <th>0</th>\n",
       "      <td>政治</td>\n",
       "      <td>11:30</td>\n",
       "      <td>【獨家】海軍驚爆不倫戀！　已婚男女軍士官...(0)</td>\n",
       "      <td>http://www.appledaily.com.tw/realtimenews/arti...</td>\n",
       "    </tr>\n",
       "    <tr>\n",
       "      <th>1</th>\n",
       "      <td>娛樂</td>\n",
       "      <td>11:29</td>\n",
       "      <td>奧斯卡影后多倫多集合　凱特溫絲蕾霸氣比讚(23)</td>\n",
       "      <td>http://www.appledaily.com.tw/realtimenews/arti...</td>\n",
       "    </tr>\n",
       "    <tr>\n",
       "      <th>2</th>\n",
       "      <td>社會</td>\n",
       "      <td>11:28</td>\n",
       "      <td>木柵農會代表賄選案　15人都認罪(0)</td>\n",
       "      <td>http://www.appledaily.com.tw/realtimenews/arti...</td>\n",
       "    </tr>\n",
       "  </tbody>\n",
       "</table>\n",
       "</div>"
      ],
      "text/plain": [
       "  category   time                       title  \\\n",
       "0       政治  11:30  【獨家】海軍驚爆不倫戀！　已婚男女軍士官...(0)   \n",
       "1       娛樂  11:29    奧斯卡影后多倫多集合　凱特溫絲蕾霸氣比讚(23)   \n",
       "2       社會  11:28         木柵農會代表賄選案　15人都認罪(0)   \n",
       "\n",
       "                                                 url  \n",
       "0  http://www.appledaily.com.tw/realtimenews/arti...  \n",
       "1  http://www.appledaily.com.tw/realtimenews/arti...  \n",
       "2  http://www.appledaily.com.tw/realtimenews/arti...  "
      ]
     },
     "execution_count": 65,
     "metadata": {},
     "output_type": "execute_result"
    }
   ],
   "source": [
    "import pandas\n",
    "df = pandas.DataFrame(newsary)\n",
    "df.head(3)"
   ]
  },
  {
   "cell_type": "markdown",
   "metadata": {},
   "source": [
    "## 字典"
   ]
  },
  {
   "cell_type": "code",
   "execution_count": 56,
   "metadata": {},
   "outputs": [
    {
     "data": {
      "text/plain": [
       "1"
      ]
     },
     "execution_count": 56,
     "metadata": {},
     "output_type": "execute_result"
    }
   ],
   "source": [
    "# list\n",
    "a = [1,2,3,4,5]\n",
    "\n",
    "# dict \n",
    "dic = {'a':1, 'b':2, 'c':3}\n",
    "dic['a'] "
   ]
  },
  {
   "cell_type": "code",
   "execution_count": 57,
   "metadata": {},
   "outputs": [
    {
     "data": {
      "text/plain": [
       "{'a': 1, 'b': 2, 'c': 3, 'd': 4}"
      ]
     },
     "execution_count": 57,
     "metadata": {},
     "output_type": "execute_result"
    }
   ],
   "source": [
    "dic['d'] = 4\n",
    "dic"
   ]
  },
  {
   "cell_type": "markdown",
   "metadata": {},
   "source": [
    "## 抓取多頁新聞"
   ]
  },
  {
   "cell_type": "code",
   "execution_count": 72,
   "metadata": {},
   "outputs": [
    {
     "name": "stdout",
     "output_type": "stream",
     "text": [
      "http://www.appledaily.com.tw/realtimenews/section/new/1\n",
      "http://www.appledaily.com.tw/realtimenews/section/new/2\n",
      "http://www.appledaily.com.tw/realtimenews/section/new/3\n"
     ]
    }
   ],
   "source": [
    "import requests\n",
    "url = 'http://www.appledaily.com.tw/realtimenews/section/new/{}'\n",
    "for page in range(1,4):\n",
    "    # format\n",
    "    print(url.format(page))\n",
    "    "
   ]
  },
  {
   "cell_type": "code",
   "execution_count": 75,
   "metadata": {
    "collapsed": true
   },
   "outputs": [],
   "source": [
    "import requests\n",
    "from bs4 import BeautifulSoup\n",
    "url = 'http://www.appledaily.com.tw/realtimenews/section/new/{}'\n",
    "domain = 'http://www.appledaily.com.tw'\n",
    "newsary = []\n",
    "for page in range(1,51):\n",
    "    # format\n",
    "    newsurl = url.format(page)\n",
    "    res = requests.get(newsurl)\n",
    "    soup = BeautifulSoup(res.text, 'html.parser')\n",
    "    for news in soup.select('.rtddt a'):\n",
    "        dic             = {}\n",
    "        dic['title']    = news.select('h1')[0].text\n",
    "        dic['category'] = news.select('h2')[0].text\n",
    "        dic['time']     = news.select('time')[0].text\n",
    "        dic['url']      = domain + news['href']\n",
    "        newsary.append(dic)    "
   ]
  },
  {
   "cell_type": "code",
   "execution_count": 77,
   "metadata": {},
   "outputs": [
    {
     "data": {
      "text/html": [
       "<div>\n",
       "<style>\n",
       "    .dataframe thead tr:only-child th {\n",
       "        text-align: right;\n",
       "    }\n",
       "\n",
       "    .dataframe thead th {\n",
       "        text-align: left;\n",
       "    }\n",
       "\n",
       "    .dataframe tbody tr th {\n",
       "        vertical-align: top;\n",
       "    }\n",
       "</style>\n",
       "<table border=\"1\" class=\"dataframe\">\n",
       "  <thead>\n",
       "    <tr style=\"text-align: right;\">\n",
       "      <th></th>\n",
       "      <th>category</th>\n",
       "      <th>time</th>\n",
       "      <th>title</th>\n",
       "      <th>url</th>\n",
       "    </tr>\n",
       "  </thead>\n",
       "  <tbody>\n",
       "    <tr>\n",
       "      <th>0</th>\n",
       "      <td>財經</td>\n",
       "      <td>13:18</td>\n",
       "      <td>郭董還沒買到手　東芝頂尖人才爆集體出走(0)</td>\n",
       "      <td>http://www.appledaily.com.tw/realtimenews/arti...</td>\n",
       "    </tr>\n",
       "    <tr>\n",
       "      <th>1</th>\n",
       "      <td>國際</td>\n",
       "      <td>13:17</td>\n",
       "      <td>洛興雅民兵提停火　緬甸：不和「恐怖份子」...(0)</td>\n",
       "      <td>http://www.appledaily.com.tw/realtimenews/arti...</td>\n",
       "    </tr>\n",
       "    <tr>\n",
       "      <th>2</th>\n",
       "      <td>社會</td>\n",
       "      <td>13:17</td>\n",
       "      <td>偷錢遭父親女友痛打　男童今年3月曾在超商...(0)</td>\n",
       "      <td>http://www.appledaily.com.tw/realtimenews/arti...</td>\n",
       "    </tr>\n",
       "    <tr>\n",
       "      <th>3</th>\n",
       "      <td>動物</td>\n",
       "      <td>13:15</td>\n",
       "      <td>【驚奇片】完美重曡 貓中貓花紋紅翻日本(2907)</td>\n",
       "      <td>http://www.appledaily.com.tw/realtimenews/arti...</td>\n",
       "    </tr>\n",
       "    <tr>\n",
       "      <th>4</th>\n",
       "      <td>時尚</td>\n",
       "      <td>13:15</td>\n",
       "      <td>男子漢也怕冷　鍾承翰有嘉裕西服帥氣暖身(0)</td>\n",
       "      <td>http://www.appledaily.com.tw/realtimenews/arti...</td>\n",
       "    </tr>\n",
       "  </tbody>\n",
       "</table>\n",
       "</div>"
      ],
      "text/plain": [
       "  category   time                       title  \\\n",
       "0       財經  13:18      郭董還沒買到手　東芝頂尖人才爆集體出走(0)   \n",
       "1       國際  13:17  洛興雅民兵提停火　緬甸：不和「恐怖份子」...(0)   \n",
       "2       社會  13:17  偷錢遭父親女友痛打　男童今年3月曾在超商...(0)   \n",
       "3       動物  13:15   【驚奇片】完美重曡 貓中貓花紋紅翻日本(2907)   \n",
       "4       時尚  13:15      男子漢也怕冷　鍾承翰有嘉裕西服帥氣暖身(0)   \n",
       "\n",
       "                                                 url  \n",
       "0  http://www.appledaily.com.tw/realtimenews/arti...  \n",
       "1  http://www.appledaily.com.tw/realtimenews/arti...  \n",
       "2  http://www.appledaily.com.tw/realtimenews/arti...  \n",
       "3  http://www.appledaily.com.tw/realtimenews/arti...  \n",
       "4  http://www.appledaily.com.tw/realtimenews/arti...  "
      ]
     },
     "execution_count": 77,
     "metadata": {},
     "output_type": "execute_result"
    }
   ],
   "source": [
    "import pandas\n",
    "df = pandas.DataFrame(newsary)\n",
    "df.head()"
   ]
  },
  {
   "cell_type": "code",
   "execution_count": 81,
   "metadata": {
    "collapsed": true
   },
   "outputs": [],
   "source": [
    "# http://www.appledaily.com.tw/realtimenews/article/finance/20170911/1201465/%E9%83%AD%E8%91%A3%E9%82%84%E6%B2%92%E8%B2%B7%E5%88%B0%E6%89%8B/u3000%E6%9D%B1%E8%8A%9D%E9%A0%82%E5%B0%96%E4%BA%BA%E6%89%8D%E7%88%86%E9%9B%86%E9%AB%94%E5%87%BA%E8%B5%B0\n",
    "import requests\n",
    "res = requests.get('http://www.appledaily.com.tw/realtimenews/article/finance/20170911/1201465/郭董還沒買到手\\u3000東芝頂尖人才爆集體出走')\n",
    "#res.text"
   ]
  },
  {
   "cell_type": "code",
   "execution_count": 82,
   "metadata": {
    "collapsed": true
   },
   "outputs": [],
   "source": [
    "from bs4 import BeautifulSoup\n",
    "soup = BeautifulSoup(res.text, 'html.parser')"
   ]
  },
  {
   "cell_type": "code",
   "execution_count": 84,
   "metadata": {},
   "outputs": [
    {
     "data": {
      "text/plain": [
       "'郭董還沒買到手\\u3000東芝頂尖人才爆集體出走'"
      ]
     },
     "execution_count": 84,
     "metadata": {},
     "output_type": "execute_result"
    }
   ],
   "source": [
    "soup.select('#h1')[0].text"
   ]
  },
  {
   "cell_type": "code",
   "execution_count": 87,
   "metadata": {},
   "outputs": [
    {
     "data": {
      "text/plain": [
       "'根據《日本經濟新聞》報導，東芝（Toshiba）的麻煩看來難在短期內收尾，而其出售快閃記憶體業務的計劃仍未擺脫僵局，在公司前景不明下，競爭對手和招聘業者均積極挖角東芝頂尖工程師，東芝未來發展所仰賴的人才有許多已出走，人才外流嚴重。報導指出，東芝四日市記憶體晶片廠1名40多位工程師表示，近幾個月接過2通來自人力公司的電話，他拒絕了對方的提案，但「春初以來，已有多位同事辭職，但沒說要去哪裡。」該名工程師還表示，曾看過獵人頭公司的人在四日市廠外，以及位在橫濱的晶片設計與開發廠外堵人，他們透過學術會議或詢問剛離開的東芝前員工，鎖定最優秀的工程師。東芝在今年3月底時約有15.3萬名員工，但在接下來的3個月減少1000人，當中很多人可能跳槽至其他公司。（于倩若／綜合外電報導）\\xa0'"
      ]
     },
     "execution_count": 87,
     "metadata": {},
     "output_type": "execute_result"
    }
   ],
   "source": [
    "soup.select('#summary')[0].text"
   ]
  },
  {
   "cell_type": "code",
   "execution_count": 95,
   "metadata": {},
   "outputs": [
    {
     "data": {
      "text/plain": [
       "datetime.timedelta(0, 1213, 233630)"
      ]
     },
     "execution_count": 95,
     "metadata": {},
     "output_type": "execute_result"
    }
   ],
   "source": [
    "dt = soup.select('.gggs time')[0].text\n",
    "\n",
    "from datetime import datetime\n",
    "dt2 = datetime.strptime(dt , '%Y年%m月%d日%H:%M')\n",
    "datetime.now() - dt2"
   ]
  },
  {
   "cell_type": "code",
   "execution_count": 130,
   "metadata": {},
   "outputs": [
    {
     "name": "stdout",
     "output_type": "stream",
     "text": [
      "人氣(18)\n"
     ]
    },
    {
     "data": {
      "text/plain": [
       "'18'"
      ]
     },
     "execution_count": 130,
     "metadata": {},
     "output_type": "execute_result"
    }
   ],
   "source": [
    "clicked = soup.select('.clicked')[0].text\n",
    "print(clicked)\n",
    "\n",
    "import re\n",
    "# () get group from the pattern\n",
    "m = re.match('人氣\\((\\d+)\\)', clicked)\n",
    "m.group(1)"
   ]
  },
  {
   "cell_type": "code",
   "execution_count": 131,
   "metadata": {
    "collapsed": true
   },
   "outputs": [],
   "source": [
    "def getNewsDetail(url):\n",
    "    res = requests.get(url)\n",
    "    soup = BeautifulSoup(res.text, 'html.parser')\n",
    "    # get title\n",
    "    title = soup.select('#h1')[0].text\n",
    "    \n",
    "    # get content\n",
    "    content = soup.select('#summary')[0].text\n",
    "    \n",
    "    # get time\n",
    "    dt = soup.select('.gggs time')[0].text\n",
    "    dt = datetime.strptime(dt , '%Y年%m月%d日%H:%M')    \n",
    "    \n",
    "    # get clicked\n",
    "    clicked = soup.select('.clicked')[0].text\n",
    "    m = re.match('人氣\\((\\d+)\\)', clicked)\n",
    "    clicked = m.group(1)    \n",
    "\n",
    "    return({'title': title, 'content': content, 'dt': dt, 'clicked': clicked})"
   ]
  },
  {
   "cell_type": "code",
   "execution_count": 132,
   "metadata": {},
   "outputs": [
    {
     "data": {
      "text/plain": [
       "{'clicked': '2378',\n",
       " 'content': '根據《日本經濟新聞》報導，東芝（Toshiba）的麻煩看來難在短期內收尾，而其出售快閃記憶體業務的計劃仍未擺脫僵局，在公司前景不明下，競爭對手和招聘業者均積極挖角東芝頂尖工程師，東芝未來發展所仰賴的人才有許多已出走，人才外流嚴重。報導指出，東芝四日市記憶體晶片廠1名40多位工程師表示，近幾個月接過2通來自人力公司的電話，他拒絕了對方的提案，但「春初以來，已有多位同事辭職，但沒說要去哪裡。」該名工程師還表示，曾看過獵人頭公司的人在四日市廠外，以及位在橫濱的晶片設計與開發廠外堵人，他們透過學術會議或詢問剛離開的東芝前員工，鎖定最優秀的工程師。東芝在今年3月底時約有15.3萬名員工，但在接下來的3個月減少1000人，當中很多人可能跳槽至其他公司。（于倩若／綜合外電報導）\\xa0',\n",
       " 'dt': datetime.datetime(2017, 9, 11, 13, 18),\n",
       " 'title': '郭董還沒買到手\\u3000東芝頂尖人才爆集體出走'}"
      ]
     },
     "execution_count": 132,
     "metadata": {},
     "output_type": "execute_result"
    }
   ],
   "source": [
    "getNewsDetail('http://www.appledaily.com.tw/realtimenews/article/finance/20170911/1201465/%E9%83%AD%E8%91%A3%E9%82%84%E6%B2%92%E8%B2%B7%E5%88%B0%E6%89%8B/u3000%E6%9D%B1%E8%8A%9D%E9%A0%82%E5%B0%96%E4%BA%BA%E6%89%8D%E7%88%86%E9%9B%86%E9%AB%94%E5%87%BA%E8%B5%B0')"
   ]
  },
  {
   "cell_type": "markdown",
   "metadata": {},
   "source": [
    "## 產生完整蘋果爬蟲"
   ]
  },
  {
   "cell_type": "code",
   "execution_count": 147,
   "metadata": {
    "collapsed": true
   },
   "outputs": [],
   "source": [
    "def getNewsDetail(url):\n",
    "    res = requests.get(url)\n",
    "    soup = BeautifulSoup(res.text, 'html.parser')\n",
    "    # get title\n",
    "    title = soup.select('#h1')[0].text\n",
    "    \n",
    "    # get content\n",
    "    content = soup.select('#summary')[0].text\n",
    "    \n",
    "    # get time\n",
    "    dt = soup.select('.gggs time')[0].text\n",
    "    dt = datetime.strptime(dt , '%Y年%m月%d日%H:%M')    \n",
    "    \n",
    "    # get clicked\n",
    "    clicked = 0\n",
    "    if soup.select('.clicked'):\n",
    "        clicked = soup.select('.clicked')[0].text\n",
    "        m = re.match('人氣\\((\\d+)\\)', clicked)\n",
    "        if m:\n",
    "            clicked = int(m.group(1))\n",
    "\n",
    "    return({'title': title, 'content': content, 'dt': dt, 'clicked': clicked})"
   ]
  },
  {
   "cell_type": "code",
   "execution_count": 149,
   "metadata": {
    "collapsed": true
   },
   "outputs": [],
   "source": [
    "import requests\n",
    "from bs4 import BeautifulSoup\n",
    "url = 'http://www.appledaily.com.tw/realtimenews/section/new/{}'\n",
    "domain = 'http://www.appledaily.com.tw'\n",
    "newsary = []\n",
    "for page in range(1,10):\n",
    "    # format\n",
    "    newsurl = url.format(page)\n",
    "    res = requests.get(newsurl)\n",
    "    soup = BeautifulSoup(res.text, 'html.parser')\n",
    "    for news in soup.select('.rtddt a'):\n",
    "        dic             = {}\n",
    "        dic['category'] = news.select('h2')[0].text\n",
    "        dic['url']      = domain + news['href']\n",
    "        dic.update(getNewsDetail(dic['url']))\n",
    "        newsary.append(dic)    "
   ]
  },
  {
   "cell_type": "code",
   "execution_count": 150,
   "metadata": {},
   "outputs": [
    {
     "data": {
      "text/html": [
       "<div>\n",
       "<style>\n",
       "    .dataframe thead tr:only-child th {\n",
       "        text-align: right;\n",
       "    }\n",
       "\n",
       "    .dataframe thead th {\n",
       "        text-align: left;\n",
       "    }\n",
       "\n",
       "    .dataframe tbody tr th {\n",
       "        vertical-align: top;\n",
       "    }\n",
       "</style>\n",
       "<table border=\"1\" class=\"dataframe\">\n",
       "  <thead>\n",
       "    <tr style=\"text-align: right;\">\n",
       "      <th></th>\n",
       "      <th>category</th>\n",
       "      <th>clicked</th>\n",
       "      <th>content</th>\n",
       "      <th>dt</th>\n",
       "      <th>title</th>\n",
       "      <th>url</th>\n",
       "    </tr>\n",
       "  </thead>\n",
       "  <tbody>\n",
       "    <tr>\n",
       "      <th>0</th>\n",
       "      <td>體育</td>\n",
       "      <td>0</td>\n",
       "      <td>台灣女將詹詠然在美國網球公開賽奪下女雙冠軍，但仍因台北世大運棄賽，飽受批評。BBS站批踢踢的...</td>\n",
       "      <td>2017-09-11 14:12:00</td>\n",
       "      <td>暗批詹詠然沒誠信！PTT創世神：代言什麼都抵制</td>\n",
       "      <td>http://www.appledaily.com.tw/realtimenews/arti...</td>\n",
       "    </tr>\n",
       "    <tr>\n",
       "      <th>1</th>\n",
       "      <td>財經</td>\n",
       "      <td>9819</td>\n",
       "      <td>（新增郭董特助胡國輝今天談話、調整標題）彭博報導，在日本東芝本周三將召開董事會敲定晶片事業最...</td>\n",
       "      <td>2017-09-11 14:10:00</td>\n",
       "      <td>郭董周三決戰前再放話　鴻海追東芝出價2.1兆日圓</td>\n",
       "      <td>http://www.appledaily.com.tw/realtimenews/arti...</td>\n",
       "    </tr>\n",
       "    <tr>\n",
       "      <th>2</th>\n",
       "      <td>娛樂</td>\n",
       "      <td>5631</td>\n",
       "      <td>（新增：照片、內文）韓國27歲男星姜河那2013年以《繼承者們》走紅，去年在《步步驚心：麗》...</td>\n",
       "      <td>2017-09-11 14:10:00</td>\n",
       "      <td>撇入伍前夕祕會IU　姜河那IG曬剃頭照告別</td>\n",
       "      <td>http://www.appledaily.com.tw/realtimenews/arti...</td>\n",
       "    </tr>\n",
       "    <tr>\n",
       "      <th>3</th>\n",
       "      <td>生活</td>\n",
       "      <td>0</td>\n",
       "      <td>本內容由財訊雙週刊提供「噢！他來跟我們搶包包了！」8月24日，藝人殷悅Melody主持直播公...</td>\n",
       "      <td>2017-09-11 14:10:00</td>\n",
       "      <td>【財訊】Yahoo TV直播拍賣夯　大老闆想玩更大</td>\n",
       "      <td>http://www.appledaily.com.tw/realtimenews/arti...</td>\n",
       "    </tr>\n",
       "    <tr>\n",
       "      <th>4</th>\n",
       "      <td>生活</td>\n",
       "      <td>301</td>\n",
       "      <td>(更新：新增影片)泰利颱風來勢洶洶，高市梓官的蔬菜專區已提前通知菜農們積極採收，將已經到採收...</td>\n",
       "      <td>2017-09-11 14:09:00</td>\n",
       "      <td>梓官蔬菜到貨增2成　冷藏入庫夠一週用</td>\n",
       "      <td>http://www.appledaily.com.tw/realtimenews/arti...</td>\n",
       "    </tr>\n",
       "  </tbody>\n",
       "</table>\n",
       "</div>"
      ],
      "text/plain": [
       "  category  clicked                                            content  \\\n",
       "0       體育        0  台灣女將詹詠然在美國網球公開賽奪下女雙冠軍，但仍因台北世大運棄賽，飽受批評。BBS站批踢踢的...   \n",
       "1       財經     9819  （新增郭董特助胡國輝今天談話、調整標題）彭博報導，在日本東芝本周三將召開董事會敲定晶片事業最...   \n",
       "2       娛樂     5631  （新增：照片、內文）韓國27歲男星姜河那2013年以《繼承者們》走紅，去年在《步步驚心：麗》...   \n",
       "3       生活        0  本內容由財訊雙週刊提供「噢！他來跟我們搶包包了！」8月24日，藝人殷悅Melody主持直播公...   \n",
       "4       生活      301  (更新：新增影片)泰利颱風來勢洶洶，高市梓官的蔬菜專區已提前通知菜農們積極採收，將已經到採收...   \n",
       "\n",
       "                   dt                      title  \\\n",
       "0 2017-09-11 14:12:00    暗批詹詠然沒誠信！PTT創世神：代言什麼都抵制   \n",
       "1 2017-09-11 14:10:00   郭董周三決戰前再放話　鴻海追東芝出價2.1兆日圓   \n",
       "2 2017-09-11 14:10:00      撇入伍前夕祕會IU　姜河那IG曬剃頭照告別   \n",
       "3 2017-09-11 14:10:00  【財訊】Yahoo TV直播拍賣夯　大老闆想玩更大   \n",
       "4 2017-09-11 14:09:00         梓官蔬菜到貨增2成　冷藏入庫夠一週用   \n",
       "\n",
       "                                                 url  \n",
       "0  http://www.appledaily.com.tw/realtimenews/arti...  \n",
       "1  http://www.appledaily.com.tw/realtimenews/arti...  \n",
       "2  http://www.appledaily.com.tw/realtimenews/arti...  \n",
       "3  http://www.appledaily.com.tw/realtimenews/arti...  \n",
       "4  http://www.appledaily.com.tw/realtimenews/arti...  "
      ]
     },
     "execution_count": 150,
     "metadata": {},
     "output_type": "execute_result"
    }
   ],
   "source": [
    "import pandas\n",
    "newsdf = pandas.DataFrame(newsary)\n",
    "newsdf.head()"
   ]
  },
  {
   "cell_type": "code",
   "execution_count": 156,
   "metadata": {
    "collapsed": true
   },
   "outputs": [],
   "source": [
    "#newsdf.to_clipboard()\n",
    "#newsdf.to_csv('news.csv', encoding='utf-8-sig')\n",
    "newsdf.to_excel('news.xlsx')"
   ]
  },
  {
   "cell_type": "code",
   "execution_count": 1,
   "metadata": {
    "collapsed": true
   },
   "outputs": [],
   "source": [
    "import pandas\n",
    "newsdf = pandas.read_excel('news.xlsx')"
   ]
  },
  {
   "cell_type": "code",
   "execution_count": 2,
   "metadata": {},
   "outputs": [
    {
     "data": {
      "text/plain": [
       "category\n",
       "體育     36631.160000\n",
       "娛樂     24373.090909\n",
       "政治     22709.400000\n",
       "社會     12325.196721\n",
       "生活     10801.709677\n",
       "財經      6023.628571\n",
       "國際      4965.200000\n",
       "地產      2217.500000\n",
       "3C      2061.600000\n",
       "論壇      1802.800000\n",
       "動物      1295.857143\n",
       "時尚      1226.000000\n",
       "壹週刊        0.000000\n",
       "Name: clicked, dtype: float64"
      ]
     },
     "execution_count": 2,
     "metadata": {},
     "output_type": "execute_result"
    }
   ],
   "source": [
    "# SELECT category, avg(clicked) FROM newsdf\n",
    "# GROUP BY category\n",
    "newsdf.groupby('category')['clicked'].mean()\n",
    "\n",
    "\n",
    "# SELECT category, avg(clicked) FROM newsdf\n",
    "# GROUP BY category ORDER BY avg(clicked) DESC\n",
    "newsdf.groupby('category')['clicked'].mean().sort_values(ascending = False)"
   ]
  },
  {
   "cell_type": "markdown",
   "metadata": {},
   "source": [
    "## 產生中文圖示\n",
    "-  cd C:\\ProgramData\\Anaconda3\\Lib\\site-packages\\matplotlib\\mpl-data\n",
    "- 修改 matplotlibrc\n",
    "- (大約在 196 行) 拿掉註解 font.family         : sans-serif\n",
    "- (大約在 208 行) 拿掉註解, 增加微軟雅黑體 font.sans-serif: Microsoft YaHei, \n",
    "- 重開 Notebook\n"
   ]
  },
  {
   "cell_type": "code",
   "execution_count": 3,
   "metadata": {},
   "outputs": [
    {
     "name": "stdout",
     "output_type": "stream",
     "text": [
      "Populating the interactive namespace from numpy and matplotlib\n"
     ]
    },
    {
     "data": {
      "text/plain": [
       "<matplotlib.axes._subplots.AxesSubplot at 0x9848fd0>"
      ]
     },
     "execution_count": 3,
     "metadata": {},
     "output_type": "execute_result"
    },
    {
     "data": {
      "image/png": "[encoded data removed]",
      "text/plain": [
       "<matplotlib.figure.Figure at 0x8f5df98>"
      ]
     },
     "metadata": {},
     "output_type": "display_data"
    }
   ],
   "source": [
    "%pylab inline \n",
    "stat = newsdf.groupby('category')['clicked'].mean().sort_values(ascending = False)\n",
    "stat.plot(kind = 'bar')"
   ]
  },
  {
   "cell_type": "markdown",
   "metadata": {},
   "source": [
    "## 時間處理"
   ]
  },
  {
   "cell_type": "code",
   "execution_count": 93,
   "metadata": {},
   "outputs": [
    {
     "data": {
      "text/plain": [
       "datetime.timedelta(132, 48977, 601016)"
      ]
     },
     "execution_count": 93,
     "metadata": {},
     "output_type": "execute_result"
    }
   ],
   "source": [
    "from datetime import datetime\n",
    "\n",
    "# 知道現在時間\n",
    "datetime.now()\n",
    "\n",
    "#時間變字串 - strftime\n",
    "datetime.now().strftime('%Y-%m-%d')\n",
    "\n",
    "#字串變時間 - strptime\n",
    "a = '2017-05-02'\n",
    "datetime.strptime(a, '%Y-%m-%d')\n",
    "\n",
    "# 比較時間\n",
    "datetime.now() - datetime.strptime(a, '%Y-%m-%d')"
   ]
  },
  {
   "cell_type": "markdown",
   "metadata": {},
   "source": [
    "## 正規表達法"
   ]
  },
  {
   "cell_type": "code",
   "execution_count": 98,
   "metadata": {},
   "outputs": [
    {
     "data": {
      "text/plain": [
       "True"
      ]
     },
     "execution_count": 98,
     "metadata": {},
     "output_type": "execute_result"
    }
   ],
   "source": [
    "a = '0912345653'\n",
    "a == '0912345653'"
   ]
  },
  {
   "cell_type": "code",
   "execution_count": 104,
   "metadata": {},
   "outputs": [
    {
     "name": "stdout",
     "output_type": "stream",
     "text": [
      "<_sre.SRE_Match object; span=(0, 1), match='3'>\n",
      "None\n",
      "<_sre.SRE_Match object; span=(0, 1), match='3'>\n",
      "<_sre.SRE_Match object; span=(0, 1), match='3'>\n",
      "<_sre.SRE_Match object; span=(0, 1), match='3'>\n"
     ]
    }
   ],
   "source": [
    "a = '3'\n",
    "\n",
    "import re\n",
    "print(re.match('3',a))\n",
    "print(re.match('5',a))\n",
    "\n",
    "# [] match any word in []\n",
    "print(re.match('[0123456789]',a))\n",
    "\n",
    "# - continuation : [0123456789] => [0-9]\n",
    "print(re.match('[0-9]',a))\n",
    "\n",
    "# \\d match digit : [0-9] => \\d\n",
    "print(re.match('\\d',a))"
   ]
  },
  {
   "cell_type": "code",
   "execution_count": 109,
   "metadata": {},
   "outputs": [
    {
     "name": "stdout",
     "output_type": "stream",
     "text": [
      "<_sre.SRE_Match object; span=(0, 1), match='w'>\n",
      "<_sre.SRE_Match object; span=(0, 1), match='w'>\n",
      "None\n",
      "<_sre.SRE_Match object; span=(0, 1), match='W'>\n",
      "<_sre.SRE_Match object; span=(0, 1), match='W'>\n"
     ]
    }
   ],
   "source": [
    "a = 'w'\n",
    "\n",
    "# [] match any word in []\n",
    "print(re.match('[abcdefghijklmnopqrstuvewxyz]',a))\n",
    "\n",
    "# - continuation\n",
    "print(re.match('[a-z]',a))\n",
    "\n",
    "# [a-zA-Z] match upper and lower digit\n",
    "a = 'W'\n",
    "print(re.match('[a-z]',a))\n",
    "print(re.match('[a-zA-Z]',a))\n",
    "\n",
    "# \\w match alphabet and number [a-zA-Z0-9] => \\w \n",
    "print(re.match('\\w',a))"
   ]
  },
  {
   "cell_type": "code",
   "execution_count": 111,
   "metadata": {},
   "outputs": [
    {
     "name": "stdout",
     "output_type": "stream",
     "text": [
      "None\n",
      "<_sre.SRE_Match object; span=(0, 1), match='^'>\n"
     ]
    }
   ],
   "source": [
    "a = '^&*$#^*$'\n",
    "print(re.match('\\w',a))\n",
    "\n",
    "# . match any word\n",
    "print(re.match('.',a))"
   ]
  },
  {
   "cell_type": "code",
   "execution_count": 117,
   "metadata": {},
   "outputs": [
    {
     "name": "stdout",
     "output_type": "stream",
     "text": [
      "<_sre.SRE_Match object; span=(0, 10), match='0912123123'>\n",
      "<_sre.SRE_Match object; span=(0, 7), match='8845252'>\n",
      "<_sre.SRE_Match object; span=(0, 7), match='8845252'>\n",
      "<_sre.SRE_Match object; span=(0, 7), match='8845252'>\n",
      "<_sre.SRE_Match object; span=(0, 7), match='8845252'>\n",
      "<_sre.SRE_Match object; span=(0, 7), match='8845252'>\n"
     ]
    }
   ],
   "source": [
    "a = '0912123123'\n",
    "\n",
    "# {10} match exact 10 symbol\n",
    "print(re.match('\\d{10}', a))\n",
    "\n",
    "# {6,12} match symbols between 6 to 12\n",
    "b = '8845252'\n",
    "print(re.match('\\d{6,12}', b))\n",
    "\n",
    "\n",
    "# {1,} match at least one\n",
    "b = '8845252'\n",
    "print(re.match('\\d{1,}', b))\n",
    "\n",
    "# + match at least one : + => {1,}\n",
    "print(re.match('\\d+', b))\n",
    "\n",
    "\n",
    "# {0,} match at least zero\n",
    "b = '8845252'\n",
    "print(re.match('\\d{0,}', b))\n",
    "\n",
    "\n",
    "# * match at least zero: * => {0,}\n",
    "b = '8845252'\n",
    "print(re.match('\\d{0,}', b))"
   ]
  },
  {
   "cell_type": "code",
   "execution_count": 123,
   "metadata": {},
   "outputs": [
    {
     "name": "stdout",
     "output_type": "stream",
     "text": [
      "<_sre.SRE_Match object; span=(0, 10), match='0912345678'>\n",
      "<_sre.SRE_Match object; span=(0, 10), match='0912345678'>\n",
      "<_sre.SRE_Match object; span=(0, 11), match='0912-345678'>\n",
      "<_sre.SRE_Match object; span=(0, 11), match='0912-345678'>\n",
      "<_sre.SRE_Match object; span=(0, 12), match='0912-345-678'>\n",
      "<_sre.SRE_Match object; span=(0, 12), match='0912-345-678'>\n",
      "<_sre.SRE_Match object; span=(0, 10), match='0912345678'>\n",
      "None\n"
     ]
    }
   ],
   "source": [
    "phones = ['0912345678', '0912-345678', '0912-345-678','09123456781237182371983791']\n",
    "for p in phones:\n",
    "    #print(re.match('09\\d{8}' , p))\n",
    "    #print(re.match('09\\d{2}-{0,1}\\d{3}-{0,1}\\d{3}' , p))\n",
    "    \n",
    "    # ? match symbols between 0 to 1 ? => {0,1}\n",
    "    print(re.match('09\\d{2}-?\\d{3}-?\\d{3}' , p))\n",
    "    \n",
    "    # ^ exactly match inital character\n",
    "    # $ exactly match end character\n",
    "    print(re.match('^09\\d{2}-?\\d{3}-?\\d{3}$' , p))"
   ]
  },
  {
   "cell_type": "markdown",
   "metadata": {
    "collapsed": true
   },
   "source": [
    "## 抓取粉絲頁按讚名單\n"
   ]
  },
  {
   "cell_type": "code",
   "execution_count": 17,
   "metadata": {},
   "outputs": [],
   "source": [
    "import requests\n",
    "payload = {\n",
    "'__user':'778224889',\n",
    "'__a':'1',\n",
    "'__dyn':'5V4cjLx2ByK5A9UkKHqAzk5EWq2W8GAdyemt9LFGA4VEvCAyWGawIhEnUF7yWCHxCEjCyEnyo88ObGubyRQ8y9UG5WjxamjDK8xmAcUK4F98lDokwIVVoK6VrCAUKjVuu-exvz8Gicx2q5odElByECiiV8G5p8hzEnwyG5HxirXm4bBxK7Wxqp4ypK59XgDxq8xe5pVkdy8gwEGUGqdUlzVEhKHVoggoAnVXKmlqBCza8IHGfjg8lfy9E89aybV98-8iypqjCzooxO6ryJ38ym4p88bzoGq4okBHCw',\n",
    "'__af':'h0',\n",
    "'__req':'1o',\n",
    "'__be':'1',\n",
    "'__pc':'PHASED:fb_stories_pkg',\n",
    "'__rev':'3288106',\n",
    "'fb_dtsg':'AQERGBz1QTY7:AQGHVwVKb3zR',\n",
    "'jazoest':'265816982716612249818489555865817172861198675985112282'    \n",
    "}\n",
    "headers = {\n",
    " 'cookie':'<cookie>'   \n",
    "    \n",
    "}\n",
    "res = requests.post('https://www.facebook.com/pages/admin/people_and_other_pages/entquery/?query_edge_key=PEOPLE_WHO_LIKE_THIS_PAGE&page_id=1545795882367060&offset=0&limit=8000&dpr=1', data = payload, headers = headers)\n"
   ]
  },
  {
   "cell_type": "code",
   "execution_count": 18,
   "metadata": {
    "collapsed": true
   },
   "outputs": [],
   "source": [
    "import json\n",
    "jd = json.loads(res.text.lstrip('for (;;);'))"
   ]
  },
  {
   "cell_type": "code",
   "execution_count": 20,
   "metadata": {},
   "outputs": [
    {
     "data": {
      "text/html": [
       "<div>\n",
       "<style>\n",
       "    .dataframe thead tr:only-child th {\n",
       "        text-align: right;\n",
       "    }\n",
       "\n",
       "    .dataframe thead th {\n",
       "        text-align: left;\n",
       "    }\n",
       "\n",
       "    .dataframe tbody tr th {\n",
       "        vertical-align: top;\n",
       "    }\n",
       "</style>\n",
       "<table border=\"1\" class=\"dataframe\">\n",
       "  <thead>\n",
       "    <tr style=\"text-align: right;\">\n",
       "      <th></th>\n",
       "      <th>desc</th>\n",
       "      <th>id</th>\n",
       "      <th>name</th>\n",
       "      <th>size</th>\n",
       "      <th>timestamp</th>\n",
       "    </tr>\n",
       "  </thead>\n",
       "  <tbody>\n",
       "    <tr>\n",
       "      <th>0</th>\n",
       "      <td>None</td>\n",
       "      <td>100006270873371</td>\n",
       "      <td>許智和</td>\n",
       "      <td>32</td>\n",
       "      <td>1505101692</td>\n",
       "    </tr>\n",
       "    <tr>\n",
       "      <th>1</th>\n",
       "      <td>None</td>\n",
       "      <td>100002078268750</td>\n",
       "      <td>Simon Wang</td>\n",
       "      <td>32</td>\n",
       "      <td>1504846669</td>\n",
       "    </tr>\n",
       "    <tr>\n",
       "      <th>2</th>\n",
       "      <td>None</td>\n",
       "      <td>100000153037561</td>\n",
       "      <td>Yu-Wen Liu</td>\n",
       "      <td>32</td>\n",
       "      <td>1504801667</td>\n",
       "    </tr>\n",
       "  </tbody>\n",
       "</table>\n",
       "</div>"
      ],
      "text/plain": [
       "   desc               id        name  size   timestamp\n",
       "0  None  100006270873371         許智和    32  1505101692\n",
       "1  None  100002078268750  Simon Wang    32  1504846669\n",
       "2  None  100000153037561  Yu-Wen Liu    32  1504801667"
      ]
     },
     "execution_count": 20,
     "metadata": {},
     "output_type": "execute_result"
    }
   ],
   "source": [
    "import pandas\n",
    "ary = []\n",
    "for rec in jd['payload']['data']:\n",
    "    dic = {}\n",
    "    dic.update(rec['profile'])\n",
    "    dic['timestamp'] = rec['timestamp']\n",
    "    ary.append(dic)\n",
    "df = pandas.DataFrame(ary)\n",
    "df.head(3)"
   ]
  },
  {
   "cell_type": "code",
   "execution_count": null,
   "metadata": {
    "collapsed": true
   },
   "outputs": [],
   "source": [
    "1612050888869232?fields=likes.summary(1).limit(0)"
   ]
  },
  {
   "cell_type": "markdown",
   "metadata": {},
   "source": [
    "## 抓取新聞按讚數 "
   ]
  },
  {
   "cell_type": "code",
   "execution_count": 34,
   "metadata": {},
   "outputs": [],
   "source": [
    "import requests\n",
    "#TOKEN = 'EAACEdEose0cBAABXOQQrevLelHlzw2d9wHZC9xeUhJ53yHhZASZCn65liewjVPWPF24Vk4sHoxdiNFsnGNN18a7GEp1uUzTYS7tQ2qZCeDxZChzrVQHLxkjKnAP692FkEcU0R6uk1xxFtlxMqQqWHLjAWUG33ZB6FedPnJWjn9HX1d2ZAIXTxP6fNX9ijhWTdUZD'\n",
    "KEY    = '<KEY>'\n",
    "SECRET = '<SECRET>'\n",
    "TOKEN = '{}|{}'.format(KEY,SECRET)\n",
    "\n",
    "PAGEURL = 'http://www.appledaily.com.tw/realtimenews/article/sports/20170911/1201499'\n",
    "res = requests.get('https://graph.facebook.com/v2.10/{}?fields=id,og_object&access_token={}'.format(PAGEURL,TOKEN))\n",
    "jd = res.json()\n",
    "newsid = jd['og_object']['id']"
   ]
  },
  {
   "cell_type": "code",
   "execution_count": 35,
   "metadata": {},
   "outputs": [
    {
     "data": {
      "text/plain": [
       "844"
      ]
     },
     "execution_count": 35,
     "metadata": {},
     "output_type": "execute_result"
    }
   ],
   "source": [
    "import requests\n",
    "res = requests.get('https://graph.facebook.com/v2.10/{}?access_token={}&fields=comments.limit(0).summary(true)%2Clikes.limit(0).summary(true)&format=json'.format(newsid, TOKEN))\n",
    "jd2  = res.json()\n",
    "jd2['likes']['summary']['total_count']"
   ]
  },
  {
   "cell_type": "code",
   "execution_count": null,
   "metadata": {
    "collapsed": true
   },
   "outputs": [],
   "source": []
  }
 ],
 "metadata": {
  "kernelspec": {
   "display_name": "Python 3",
   "language": "python",
   "name": "python3"
  },
  "language_info": {
   "codemirror_mode": {
    "name": "ipython",
    "version": 3
   },
   "file_extension": ".py",
   "mimetype": "text/x-python",
   "name": "python",
   "nbconvert_exporter": "python",
   "pygments_lexer": "ipython3",
   "version": "3.6.1"
  }
 },
 "nbformat": 4,
 "nbformat_minor": 2
}
